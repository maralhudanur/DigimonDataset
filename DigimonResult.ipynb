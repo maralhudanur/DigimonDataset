{
  "nbformat": 4,
  "nbformat_minor": 0,
  "metadata": {
    "colab": {
      "name": "DigimonResult.ipynb",
      "provenance": [],
      "collapsed_sections": []
    },
    "kernelspec": {
      "name": "python3",
      "display_name": "Python 3"
    },
    "language_info": {
      "name": "python"
    },
    "accelerator": "GPU",
    "gpuClass": "standard"
  },
  "cells": [
    {
      "cell_type": "markdown",
      "source": [
        "# Feature Selection and Hyper Parameter Optimization for Digimon Dataset"
      ],
      "metadata": {
        "id": "Uo2L1w9aSJ3z"
      }
    },
    {
      "cell_type": "markdown",
      "source": [
        "### Library"
      ],
      "metadata": {
        "id": "H5I_3hTVX1d8"
      }
    },
    {
      "cell_type": "code",
      "source": [
        "import numpy as np\n",
        "import pandas as pd\n",
        "\n",
        "# Visulation\n",
        "import matplotlib.pyplot as plt\n",
        "from matplotlib.pyplot import figure\n",
        "import seaborn as sns\n",
        "import shap\n",
        "\n",
        "# Sklearn\n",
        "from sklearn.model_selection import train_test_split\n",
        "from sklearn.linear_model import LinearRegression\n",
        "from sklearn.ensemble import RandomForestRegressor\n",
        "from sklearn.svm import SVR\n",
        "from sklearn import metrics\n",
        "from sklearn.preprocessing import StandardScaler\n",
        "from sklearn.model_selection import GridSearchCV\n",
        "\n",
        "# Feature Selection\n",
        "from sklearn.feature_selection import mutual_info_regression"
      ],
      "metadata": {
        "id": "_BMmYHQrX0wq"
      },
      "execution_count": 3,
      "outputs": []
    },
    {
      "cell_type": "code",
      "source": [
        "df = pd.read_csv(\"/content/drive/MyDrive/Colab Notebooks/Odev/3 Digimon/DigiDB_digimonlist.csv\")\n",
        "df.head()"
      ],
      "metadata": {
        "colab": {
          "base_uri": "https://localhost:8080/",
          "height": 206
        },
        "id": "3Gbq4KTeZSxs",
        "outputId": "18ce3c09-c77e-46a0-d784-084e44a08d73"
      },
      "execution_count": 4,
      "outputs": [
        {
          "output_type": "execute_result",
          "data": {
            "text/plain": [
              "   Number  Digimon Stage  Type Attribute  Memory  Equip Slots  Lv 50 HP  \\\n",
              "0       1  Kuramon  Baby  Free   Neutral       2            0       590   \n",
              "1       2  Pabumon  Baby  Free   Neutral       2            0       950   \n",
              "2       3  Punimon  Baby  Free   Neutral       2            0       870   \n",
              "3       4  Botamon  Baby  Free   Neutral       2            0       690   \n",
              "4       5  Poyomon  Baby  Free   Neutral       2            0       540   \n",
              "\n",
              "   Lv50 SP  Lv50 Atk  Lv50 Def  Lv50 Int  Lv50 Spd  \n",
              "0       77        79        69        68        95  \n",
              "1       62        76        76        69        68  \n",
              "2       50        97        87        50        75  \n",
              "3       68        77        95        76        61  \n",
              "4       98        54        59        95        86  "
            ],
            "text/html": [
              "\n",
              "  <div id=\"df-4f5d661f-03b6-4cce-a21e-7205ec6a77cf\">\n",
              "    <div class=\"colab-df-container\">\n",
              "      <div>\n",
              "<style scoped>\n",
              "    .dataframe tbody tr th:only-of-type {\n",
              "        vertical-align: middle;\n",
              "    }\n",
              "\n",
              "    .dataframe tbody tr th {\n",
              "        vertical-align: top;\n",
              "    }\n",
              "\n",
              "    .dataframe thead th {\n",
              "        text-align: right;\n",
              "    }\n",
              "</style>\n",
              "<table border=\"1\" class=\"dataframe\">\n",
              "  <thead>\n",
              "    <tr style=\"text-align: right;\">\n",
              "      <th></th>\n",
              "      <th>Number</th>\n",
              "      <th>Digimon</th>\n",
              "      <th>Stage</th>\n",
              "      <th>Type</th>\n",
              "      <th>Attribute</th>\n",
              "      <th>Memory</th>\n",
              "      <th>Equip Slots</th>\n",
              "      <th>Lv 50 HP</th>\n",
              "      <th>Lv50 SP</th>\n",
              "      <th>Lv50 Atk</th>\n",
              "      <th>Lv50 Def</th>\n",
              "      <th>Lv50 Int</th>\n",
              "      <th>Lv50 Spd</th>\n",
              "    </tr>\n",
              "  </thead>\n",
              "  <tbody>\n",
              "    <tr>\n",
              "      <th>0</th>\n",
              "      <td>1</td>\n",
              "      <td>Kuramon</td>\n",
              "      <td>Baby</td>\n",
              "      <td>Free</td>\n",
              "      <td>Neutral</td>\n",
              "      <td>2</td>\n",
              "      <td>0</td>\n",
              "      <td>590</td>\n",
              "      <td>77</td>\n",
              "      <td>79</td>\n",
              "      <td>69</td>\n",
              "      <td>68</td>\n",
              "      <td>95</td>\n",
              "    </tr>\n",
              "    <tr>\n",
              "      <th>1</th>\n",
              "      <td>2</td>\n",
              "      <td>Pabumon</td>\n",
              "      <td>Baby</td>\n",
              "      <td>Free</td>\n",
              "      <td>Neutral</td>\n",
              "      <td>2</td>\n",
              "      <td>0</td>\n",
              "      <td>950</td>\n",
              "      <td>62</td>\n",
              "      <td>76</td>\n",
              "      <td>76</td>\n",
              "      <td>69</td>\n",
              "      <td>68</td>\n",
              "    </tr>\n",
              "    <tr>\n",
              "      <th>2</th>\n",
              "      <td>3</td>\n",
              "      <td>Punimon</td>\n",
              "      <td>Baby</td>\n",
              "      <td>Free</td>\n",
              "      <td>Neutral</td>\n",
              "      <td>2</td>\n",
              "      <td>0</td>\n",
              "      <td>870</td>\n",
              "      <td>50</td>\n",
              "      <td>97</td>\n",
              "      <td>87</td>\n",
              "      <td>50</td>\n",
              "      <td>75</td>\n",
              "    </tr>\n",
              "    <tr>\n",
              "      <th>3</th>\n",
              "      <td>4</td>\n",
              "      <td>Botamon</td>\n",
              "      <td>Baby</td>\n",
              "      <td>Free</td>\n",
              "      <td>Neutral</td>\n",
              "      <td>2</td>\n",
              "      <td>0</td>\n",
              "      <td>690</td>\n",
              "      <td>68</td>\n",
              "      <td>77</td>\n",
              "      <td>95</td>\n",
              "      <td>76</td>\n",
              "      <td>61</td>\n",
              "    </tr>\n",
              "    <tr>\n",
              "      <th>4</th>\n",
              "      <td>5</td>\n",
              "      <td>Poyomon</td>\n",
              "      <td>Baby</td>\n",
              "      <td>Free</td>\n",
              "      <td>Neutral</td>\n",
              "      <td>2</td>\n",
              "      <td>0</td>\n",
              "      <td>540</td>\n",
              "      <td>98</td>\n",
              "      <td>54</td>\n",
              "      <td>59</td>\n",
              "      <td>95</td>\n",
              "      <td>86</td>\n",
              "    </tr>\n",
              "  </tbody>\n",
              "</table>\n",
              "</div>\n",
              "      <button class=\"colab-df-convert\" onclick=\"convertToInteractive('df-4f5d661f-03b6-4cce-a21e-7205ec6a77cf')\"\n",
              "              title=\"Convert this dataframe to an interactive table.\"\n",
              "              style=\"display:none;\">\n",
              "        \n",
              "  <svg xmlns=\"http://www.w3.org/2000/svg\" height=\"24px\"viewBox=\"0 0 24 24\"\n",
              "       width=\"24px\">\n",
              "    <path d=\"M0 0h24v24H0V0z\" fill=\"none\"/>\n",
              "    <path d=\"M18.56 5.44l.94 2.06.94-2.06 2.06-.94-2.06-.94-.94-2.06-.94 2.06-2.06.94zm-11 1L8.5 8.5l.94-2.06 2.06-.94-2.06-.94L8.5 2.5l-.94 2.06-2.06.94zm10 10l.94 2.06.94-2.06 2.06-.94-2.06-.94-.94-2.06-.94 2.06-2.06.94z\"/><path d=\"M17.41 7.96l-1.37-1.37c-.4-.4-.92-.59-1.43-.59-.52 0-1.04.2-1.43.59L10.3 9.45l-7.72 7.72c-.78.78-.78 2.05 0 2.83L4 21.41c.39.39.9.59 1.41.59.51 0 1.02-.2 1.41-.59l7.78-7.78 2.81-2.81c.8-.78.8-2.07 0-2.86zM5.41 20L4 18.59l7.72-7.72 1.47 1.35L5.41 20z\"/>\n",
              "  </svg>\n",
              "      </button>\n",
              "      \n",
              "  <style>\n",
              "    .colab-df-container {\n",
              "      display:flex;\n",
              "      flex-wrap:wrap;\n",
              "      gap: 12px;\n",
              "    }\n",
              "\n",
              "    .colab-df-convert {\n",
              "      background-color: #E8F0FE;\n",
              "      border: none;\n",
              "      border-radius: 50%;\n",
              "      cursor: pointer;\n",
              "      display: none;\n",
              "      fill: #1967D2;\n",
              "      height: 32px;\n",
              "      padding: 0 0 0 0;\n",
              "      width: 32px;\n",
              "    }\n",
              "\n",
              "    .colab-df-convert:hover {\n",
              "      background-color: #E2EBFA;\n",
              "      box-shadow: 0px 1px 2px rgba(60, 64, 67, 0.3), 0px 1px 3px 1px rgba(60, 64, 67, 0.15);\n",
              "      fill: #174EA6;\n",
              "    }\n",
              "\n",
              "    [theme=dark] .colab-df-convert {\n",
              "      background-color: #3B4455;\n",
              "      fill: #D2E3FC;\n",
              "    }\n",
              "\n",
              "    [theme=dark] .colab-df-convert:hover {\n",
              "      background-color: #434B5C;\n",
              "      box-shadow: 0px 1px 3px 1px rgba(0, 0, 0, 0.15);\n",
              "      filter: drop-shadow(0px 1px 2px rgba(0, 0, 0, 0.3));\n",
              "      fill: #FFFFFF;\n",
              "    }\n",
              "  </style>\n",
              "\n",
              "      <script>\n",
              "        const buttonEl =\n",
              "          document.querySelector('#df-4f5d661f-03b6-4cce-a21e-7205ec6a77cf button.colab-df-convert');\n",
              "        buttonEl.style.display =\n",
              "          google.colab.kernel.accessAllowed ? 'block' : 'none';\n",
              "\n",
              "        async function convertToInteractive(key) {\n",
              "          const element = document.querySelector('#df-4f5d661f-03b6-4cce-a21e-7205ec6a77cf');\n",
              "          const dataTable =\n",
              "            await google.colab.kernel.invokeFunction('convertToInteractive',\n",
              "                                                     [key], {});\n",
              "          if (!dataTable) return;\n",
              "\n",
              "          const docLinkHtml = 'Like what you see? Visit the ' +\n",
              "            '<a target=\"_blank\" href=https://colab.research.google.com/notebooks/data_table.ipynb>data table notebook</a>'\n",
              "            + ' to learn more about interactive tables.';\n",
              "          element.innerHTML = '';\n",
              "          dataTable['output_type'] = 'display_data';\n",
              "          await google.colab.output.renderOutput(dataTable, element);\n",
              "          const docLink = document.createElement('div');\n",
              "          docLink.innerHTML = docLinkHtml;\n",
              "          element.appendChild(docLink);\n",
              "        }\n",
              "      </script>\n",
              "    </div>\n",
              "  </div>\n",
              "  "
            ]
          },
          "metadata": {},
          "execution_count": 4
        }
      ]
    },
    {
      "cell_type": "markdown",
      "source": [
        "# Data Exploration"
      ],
      "metadata": {
        "id": "Fuc1VDA5aoIE"
      }
    },
    {
      "cell_type": "code",
      "source": [
        "df.info()"
      ],
      "metadata": {
        "colab": {
          "base_uri": "https://localhost:8080/"
        },
        "id": "ombH7KzvaYF8",
        "outputId": "611390d1-51b8-4cd6-8431-be6b7dd3c173"
      },
      "execution_count": null,
      "outputs": [
        {
          "output_type": "stream",
          "name": "stdout",
          "text": [
            "<class 'pandas.core.frame.DataFrame'>\n",
            "RangeIndex: 249 entries, 0 to 248\n",
            "Data columns (total 13 columns):\n",
            " #   Column       Non-Null Count  Dtype \n",
            "---  ------       --------------  ----- \n",
            " 0   Number       249 non-null    int64 \n",
            " 1   Digimon      249 non-null    object\n",
            " 2   Stage        249 non-null    object\n",
            " 3   Type         249 non-null    object\n",
            " 4   Attribute    249 non-null    object\n",
            " 5   Memory       249 non-null    int64 \n",
            " 6   Equip Slots  249 non-null    int64 \n",
            " 7   Lv 50 HP     249 non-null    int64 \n",
            " 8   Lv50 SP      249 non-null    int64 \n",
            " 9   Lv50 Atk     249 non-null    int64 \n",
            " 10  Lv50 Def     249 non-null    int64 \n",
            " 11  Lv50 Int     249 non-null    int64 \n",
            " 12  Lv50 Spd     249 non-null    int64 \n",
            "dtypes: int64(9), object(4)\n",
            "memory usage: 25.4+ KB\n"
          ]
        }
      ]
    },
    {
      "cell_type": "markdown",
      "source": [
        "+ No missing data      ✅\n",
        "+ Data types are True  ✅"
      ],
      "metadata": {
        "id": "1SwFuk70a2tL"
      }
    },
    {
      "cell_type": "code",
      "source": [
        "df.describe()"
      ],
      "metadata": {
        "colab": {
          "base_uri": "https://localhost:8080/",
          "height": 300
        },
        "id": "vwiUX_76az_P",
        "outputId": "50d99df4-8032-4076-8368-572fd918f122"
      },
      "execution_count": null,
      "outputs": [
        {
          "output_type": "execute_result",
          "data": {
            "text/plain": [
              "           Number      Memory  Equip Slots     Lv 50 HP     Lv50 SP  \\\n",
              "count  249.000000  249.000000   249.000000   249.000000  249.000000   \n",
              "mean   125.000000   11.987952     1.574297  1210.883534  109.779116   \n",
              "std     72.024301    6.616501     0.854012   326.102384   32.454115   \n",
              "min      1.000000    2.000000     0.000000   530.000000   50.000000   \n",
              "25%     63.000000    6.000000     1.000000   990.000000   84.000000   \n",
              "50%    125.000000   12.000000     1.000000  1180.000000  104.000000   \n",
              "75%    187.000000   18.000000     2.000000  1480.000000  132.000000   \n",
              "max    249.000000   25.000000     3.000000  2080.000000  203.000000   \n",
              "\n",
              "         Lv50 Atk    Lv50 Def    Lv50 Int    Lv50 Spd  \n",
              "count  249.000000  249.000000  249.000000  249.000000  \n",
              "mean   124.518072  116.377510  112.638554  120.401606  \n",
              "std     45.639372   32.132696   41.562888   32.633339  \n",
              "min     52.000000   59.000000   50.000000   61.000000  \n",
              "25%     89.000000   93.000000   79.000000   92.000000  \n",
              "50%    119.000000  113.000000  104.000000  119.000000  \n",
              "75%    153.000000  138.000000  138.000000  143.000000  \n",
              "max    318.000000  213.000000  233.000000  218.000000  "
            ],
            "text/html": [
              "\n",
              "  <div id=\"df-4b5d70a2-bccf-4b56-91ed-03460ed2d51d\">\n",
              "    <div class=\"colab-df-container\">\n",
              "      <div>\n",
              "<style scoped>\n",
              "    .dataframe tbody tr th:only-of-type {\n",
              "        vertical-align: middle;\n",
              "    }\n",
              "\n",
              "    .dataframe tbody tr th {\n",
              "        vertical-align: top;\n",
              "    }\n",
              "\n",
              "    .dataframe thead th {\n",
              "        text-align: right;\n",
              "    }\n",
              "</style>\n",
              "<table border=\"1\" class=\"dataframe\">\n",
              "  <thead>\n",
              "    <tr style=\"text-align: right;\">\n",
              "      <th></th>\n",
              "      <th>Number</th>\n",
              "      <th>Memory</th>\n",
              "      <th>Equip Slots</th>\n",
              "      <th>Lv 50 HP</th>\n",
              "      <th>Lv50 SP</th>\n",
              "      <th>Lv50 Atk</th>\n",
              "      <th>Lv50 Def</th>\n",
              "      <th>Lv50 Int</th>\n",
              "      <th>Lv50 Spd</th>\n",
              "    </tr>\n",
              "  </thead>\n",
              "  <tbody>\n",
              "    <tr>\n",
              "      <th>count</th>\n",
              "      <td>249.000000</td>\n",
              "      <td>249.000000</td>\n",
              "      <td>249.000000</td>\n",
              "      <td>249.000000</td>\n",
              "      <td>249.000000</td>\n",
              "      <td>249.000000</td>\n",
              "      <td>249.000000</td>\n",
              "      <td>249.000000</td>\n",
              "      <td>249.000000</td>\n",
              "    </tr>\n",
              "    <tr>\n",
              "      <th>mean</th>\n",
              "      <td>125.000000</td>\n",
              "      <td>11.987952</td>\n",
              "      <td>1.574297</td>\n",
              "      <td>1210.883534</td>\n",
              "      <td>109.779116</td>\n",
              "      <td>124.518072</td>\n",
              "      <td>116.377510</td>\n",
              "      <td>112.638554</td>\n",
              "      <td>120.401606</td>\n",
              "    </tr>\n",
              "    <tr>\n",
              "      <th>std</th>\n",
              "      <td>72.024301</td>\n",
              "      <td>6.616501</td>\n",
              "      <td>0.854012</td>\n",
              "      <td>326.102384</td>\n",
              "      <td>32.454115</td>\n",
              "      <td>45.639372</td>\n",
              "      <td>32.132696</td>\n",
              "      <td>41.562888</td>\n",
              "      <td>32.633339</td>\n",
              "    </tr>\n",
              "    <tr>\n",
              "      <th>min</th>\n",
              "      <td>1.000000</td>\n",
              "      <td>2.000000</td>\n",
              "      <td>0.000000</td>\n",
              "      <td>530.000000</td>\n",
              "      <td>50.000000</td>\n",
              "      <td>52.000000</td>\n",
              "      <td>59.000000</td>\n",
              "      <td>50.000000</td>\n",
              "      <td>61.000000</td>\n",
              "    </tr>\n",
              "    <tr>\n",
              "      <th>25%</th>\n",
              "      <td>63.000000</td>\n",
              "      <td>6.000000</td>\n",
              "      <td>1.000000</td>\n",
              "      <td>990.000000</td>\n",
              "      <td>84.000000</td>\n",
              "      <td>89.000000</td>\n",
              "      <td>93.000000</td>\n",
              "      <td>79.000000</td>\n",
              "      <td>92.000000</td>\n",
              "    </tr>\n",
              "    <tr>\n",
              "      <th>50%</th>\n",
              "      <td>125.000000</td>\n",
              "      <td>12.000000</td>\n",
              "      <td>1.000000</td>\n",
              "      <td>1180.000000</td>\n",
              "      <td>104.000000</td>\n",
              "      <td>119.000000</td>\n",
              "      <td>113.000000</td>\n",
              "      <td>104.000000</td>\n",
              "      <td>119.000000</td>\n",
              "    </tr>\n",
              "    <tr>\n",
              "      <th>75%</th>\n",
              "      <td>187.000000</td>\n",
              "      <td>18.000000</td>\n",
              "      <td>2.000000</td>\n",
              "      <td>1480.000000</td>\n",
              "      <td>132.000000</td>\n",
              "      <td>153.000000</td>\n",
              "      <td>138.000000</td>\n",
              "      <td>138.000000</td>\n",
              "      <td>143.000000</td>\n",
              "    </tr>\n",
              "    <tr>\n",
              "      <th>max</th>\n",
              "      <td>249.000000</td>\n",
              "      <td>25.000000</td>\n",
              "      <td>3.000000</td>\n",
              "      <td>2080.000000</td>\n",
              "      <td>203.000000</td>\n",
              "      <td>318.000000</td>\n",
              "      <td>213.000000</td>\n",
              "      <td>233.000000</td>\n",
              "      <td>218.000000</td>\n",
              "    </tr>\n",
              "  </tbody>\n",
              "</table>\n",
              "</div>\n",
              "      <button class=\"colab-df-convert\" onclick=\"convertToInteractive('df-4b5d70a2-bccf-4b56-91ed-03460ed2d51d')\"\n",
              "              title=\"Convert this dataframe to an interactive table.\"\n",
              "              style=\"display:none;\">\n",
              "        \n",
              "  <svg xmlns=\"http://www.w3.org/2000/svg\" height=\"24px\"viewBox=\"0 0 24 24\"\n",
              "       width=\"24px\">\n",
              "    <path d=\"M0 0h24v24H0V0z\" fill=\"none\"/>\n",
              "    <path d=\"M18.56 5.44l.94 2.06.94-2.06 2.06-.94-2.06-.94-.94-2.06-.94 2.06-2.06.94zm-11 1L8.5 8.5l.94-2.06 2.06-.94-2.06-.94L8.5 2.5l-.94 2.06-2.06.94zm10 10l.94 2.06.94-2.06 2.06-.94-2.06-.94-.94-2.06-.94 2.06-2.06.94z\"/><path d=\"M17.41 7.96l-1.37-1.37c-.4-.4-.92-.59-1.43-.59-.52 0-1.04.2-1.43.59L10.3 9.45l-7.72 7.72c-.78.78-.78 2.05 0 2.83L4 21.41c.39.39.9.59 1.41.59.51 0 1.02-.2 1.41-.59l7.78-7.78 2.81-2.81c.8-.78.8-2.07 0-2.86zM5.41 20L4 18.59l7.72-7.72 1.47 1.35L5.41 20z\"/>\n",
              "  </svg>\n",
              "      </button>\n",
              "      \n",
              "  <style>\n",
              "    .colab-df-container {\n",
              "      display:flex;\n",
              "      flex-wrap:wrap;\n",
              "      gap: 12px;\n",
              "    }\n",
              "\n",
              "    .colab-df-convert {\n",
              "      background-color: #E8F0FE;\n",
              "      border: none;\n",
              "      border-radius: 50%;\n",
              "      cursor: pointer;\n",
              "      display: none;\n",
              "      fill: #1967D2;\n",
              "      height: 32px;\n",
              "      padding: 0 0 0 0;\n",
              "      width: 32px;\n",
              "    }\n",
              "\n",
              "    .colab-df-convert:hover {\n",
              "      background-color: #E2EBFA;\n",
              "      box-shadow: 0px 1px 2px rgba(60, 64, 67, 0.3), 0px 1px 3px 1px rgba(60, 64, 67, 0.15);\n",
              "      fill: #174EA6;\n",
              "    }\n",
              "\n",
              "    [theme=dark] .colab-df-convert {\n",
              "      background-color: #3B4455;\n",
              "      fill: #D2E3FC;\n",
              "    }\n",
              "\n",
              "    [theme=dark] .colab-df-convert:hover {\n",
              "      background-color: #434B5C;\n",
              "      box-shadow: 0px 1px 3px 1px rgba(0, 0, 0, 0.15);\n",
              "      filter: drop-shadow(0px 1px 2px rgba(0, 0, 0, 0.3));\n",
              "      fill: #FFFFFF;\n",
              "    }\n",
              "  </style>\n",
              "\n",
              "      <script>\n",
              "        const buttonEl =\n",
              "          document.querySelector('#df-4b5d70a2-bccf-4b56-91ed-03460ed2d51d button.colab-df-convert');\n",
              "        buttonEl.style.display =\n",
              "          google.colab.kernel.accessAllowed ? 'block' : 'none';\n",
              "\n",
              "        async function convertToInteractive(key) {\n",
              "          const element = document.querySelector('#df-4b5d70a2-bccf-4b56-91ed-03460ed2d51d');\n",
              "          const dataTable =\n",
              "            await google.colab.kernel.invokeFunction('convertToInteractive',\n",
              "                                                     [key], {});\n",
              "          if (!dataTable) return;\n",
              "\n",
              "          const docLinkHtml = 'Like what you see? Visit the ' +\n",
              "            '<a target=\"_blank\" href=https://colab.research.google.com/notebooks/data_table.ipynb>data table notebook</a>'\n",
              "            + ' to learn more about interactive tables.';\n",
              "          element.innerHTML = '';\n",
              "          dataTable['output_type'] = 'display_data';\n",
              "          await google.colab.output.renderOutput(dataTable, element);\n",
              "          const docLink = document.createElement('div');\n",
              "          docLink.innerHTML = docLinkHtml;\n",
              "          element.appendChild(docLink);\n",
              "        }\n",
              "      </script>\n",
              "    </div>\n",
              "  </div>\n",
              "  "
            ]
          },
          "metadata": {},
          "execution_count": 7
        }
      ]
    },
    {
      "cell_type": "markdown",
      "source": [
        "### Unique Values for Categorical Variables"
      ],
      "metadata": {
        "id": "dQNyoi7Sb6W2"
      }
    },
    {
      "cell_type": "markdown",
      "source": [
        "**Se more columns**\n",
        "+ But it is not read clearly with this method."
      ],
      "metadata": {
        "id": "jnJjNd2ecVF-"
      }
    },
    {
      "cell_type": "code",
      "source": [
        "df.apply(lambda x: x.unique())[[\"Stage\", \"Type\", \"Attribute\"]]"
      ],
      "metadata": {
        "colab": {
          "base_uri": "https://localhost:8080/"
        },
        "id": "BvMg8tvqb333",
        "outputId": "a48fcb4e-cfb3-4a81-87e7-e48b795777fe"
      },
      "execution_count": null,
      "outputs": [
        {
          "output_type": "execute_result",
          "data": {
            "text/plain": [
              "Stage        [Baby, In-Training, Rookie, Champion, Ultimate...\n",
              "Type                              [Free, Vaccine, Virus, Data]\n",
              "Attribute    [Neutral, Fire, Plant, Earth, Dark, Light, Wat...\n",
              "dtype: object"
            ]
          },
          "metadata": {},
          "execution_count": 8
        }
      ]
    },
    {
      "cell_type": "code",
      "source": [
        "len(df[\"Digimon\"].unique()) # + All Digimon columns are unique."
      ],
      "metadata": {
        "colab": {
          "base_uri": "https://localhost:8080/"
        },
        "id": "QoCtQzPGc933",
        "outputId": "191f31cd-70bd-4580-b04b-8f7681205aec"
      },
      "execution_count": null,
      "outputs": [
        {
          "output_type": "execute_result",
          "data": {
            "text/plain": [
              "249"
            ]
          },
          "metadata": {},
          "execution_count": 9
        }
      ]
    },
    {
      "cell_type": "code",
      "source": [
        "df[\"Stage\"].unique() # The Stage column has 8 unique values."
      ],
      "metadata": {
        "colab": {
          "base_uri": "https://localhost:8080/"
        },
        "id": "FHVmlWwhdjoH",
        "outputId": "2bb6ea0c-7437-4eb0-dc83-e7f26228bbc6"
      },
      "execution_count": null,
      "outputs": [
        {
          "output_type": "execute_result",
          "data": {
            "text/plain": [
              "array(['Baby', 'In-Training', 'Rookie', 'Champion', 'Ultimate', 'Mega',\n",
              "       'Ultra', 'Armor'], dtype=object)"
            ]
          },
          "metadata": {},
          "execution_count": 10
        }
      ]
    },
    {
      "cell_type": "code",
      "source": [
        "df[\"Type\"].unique()  # The Type column has 4 unique values."
      ],
      "metadata": {
        "colab": {
          "base_uri": "https://localhost:8080/"
        },
        "id": "4hav6mlHdnqO",
        "outputId": "5ce3ac80-c6ae-4e6f-c75d-bed3e708b9c9"
      },
      "execution_count": null,
      "outputs": [
        {
          "output_type": "execute_result",
          "data": {
            "text/plain": [
              "array(['Free', 'Vaccine', 'Virus', 'Data'], dtype=object)"
            ]
          },
          "metadata": {},
          "execution_count": 11
        }
      ]
    },
    {
      "cell_type": "code",
      "source": [
        "df[\"Attribute\"].unique()  # The Attribute column has 9 unique values."
      ],
      "metadata": {
        "colab": {
          "base_uri": "https://localhost:8080/"
        },
        "id": "PMCgrGG_dbH8",
        "outputId": "e4f0dde3-a958-44f1-ec2c-5ce181a9ebe3"
      },
      "execution_count": null,
      "outputs": [
        {
          "output_type": "execute_result",
          "data": {
            "text/plain": [
              "array(['Neutral', 'Fire', 'Plant', 'Earth', 'Dark', 'Light', 'Water',\n",
              "       'Wind', 'Electric'], dtype=object)"
            ]
          },
          "metadata": {},
          "execution_count": 12
        }
      ]
    },
    {
      "cell_type": "code",
      "source": [
        "df[\"Memory\"].unique()"
      ],
      "metadata": {
        "colab": {
          "base_uri": "https://localhost:8080/"
        },
        "id": "eiOUpESedbFC",
        "outputId": "39554033-d100-429e-9b91-988708010df4"
      },
      "execution_count": null,
      "outputs": [
        {
          "output_type": "execute_result",
          "data": {
            "text/plain": [
              "array([ 2,  3,  5,  4, 14,  8,  6, 12, 10, 22, 16, 20, 18, 25])"
            ]
          },
          "metadata": {},
          "execution_count": 13
        }
      ]
    },
    {
      "cell_type": "markdown",
      "source": [
        "+ Is memory feature a numeric variable or categorik variable?\n",
        "\n",
        "=> Numeric Variable"
      ],
      "metadata": {
        "id": "KIyxldpAemOg"
      }
    },
    {
      "cell_type": "markdown",
      "source": [
        "### Correlation with Heat Map"
      ],
      "metadata": {
        "id": "KUEB-kuybwLu"
      }
    },
    {
      "cell_type": "code",
      "source": [
        "plt.figure(figsize= (16,5))\n",
        "mask = np.triu(np.ones_like(df.corr(), dtype=np.bool ))\n",
        "sns.heatmap( df.corr(), mask = mask, annot=True, fmt= '0.2f', linewidths=.5, cmap='BrBG')"
      ],
      "metadata": {
        "colab": {
          "base_uri": "https://localhost:8080/",
          "height": 392
        },
        "id": "8fidEns_bmUh",
        "outputId": "83c0741d-89b1-4330-ec46-10a40346a5fa"
      },
      "execution_count": null,
      "outputs": [
        {
          "output_type": "stream",
          "name": "stderr",
          "text": [
            "`np.bool` is a deprecated alias for the builtin `bool`. To silence this warning, use `bool` by itself. Doing this will not modify any behavior and is safe. If you specifically wanted the numpy scalar type, use `np.bool_` here.\n",
            "Deprecated in NumPy 1.20; for more details and guidance: https://numpy.org/devdocs/release/1.20.0-notes.html#deprecations\n"
          ]
        },
        {
          "output_type": "execute_result",
          "data": {
            "text/plain": [
              "<matplotlib.axes._subplots.AxesSubplot at 0x7feca3ac2cd0>"
            ]
          },
          "metadata": {},
          "execution_count": 14
        },
        {
          "output_type": "display_data",
          "data": {
            "text/plain": [
              "<Figure size 1152x360 with 2 Axes>"
            ],
            "image/png": "[encoded data removed]"
          },
          "metadata": {
            "needs_background": "light"
          }
        }
      ]
    },
    {
      "cell_type": "markdown",
      "source": [
        "Result:\n",
        "\n",
        "+ HP       -> memory \n",
        "+ SP       -> memory\n",
        "+ ATK      -> memory, HP\n",
        "+ Def      -> memory, HP\n",
        "+ Int      -> memory, SP\n",
        "+ Spd      -> momory, SP, ATk  \n",
        "\n",
        "correlated"
      ],
      "metadata": {
        "id": "qzaSKTBMf0lv"
      }
    },
    {
      "cell_type": "markdown",
      "source": [
        "## GroupBy"
      ],
      "metadata": {
        "id": "DQ0lrPvYgL_z"
      }
    },
    {
      "cell_type": "code",
      "source": [
        "df.groupby(\"Stage\")[[\"Lv50 Int\"]].max().sort_values(by=[\"Lv50 Int\"],ascending=False)\n",
        "#  Mega > Ultra > Rookie > Ultimate > Armor > Champion > In-Training > Baby"
      ],
      "metadata": {
        "colab": {
          "base_uri": "https://localhost:8080/",
          "height": 332
        },
        "id": "dBVQqm-RgKdh",
        "outputId": "c9f7e810-c25f-4abd-deb5-f5766c95fdeb"
      },
      "execution_count": null,
      "outputs": [
        {
          "output_type": "execute_result",
          "data": {
            "text/plain": [
              "             Lv50 Int\n",
              "Stage                \n",
              "Mega              233\n",
              "Ultra             233\n",
              "Rookie            208\n",
              "Ultimate          203\n",
              "Armor             158\n",
              "Champion          148\n",
              "In-Training       103\n",
              "Baby               95"
            ],
            "text/html": [
              "\n",
              "  <div id=\"df-f23c5ce7-52dc-4384-8012-9768fe1809ea\">\n",
              "    <div class=\"colab-df-container\">\n",
              "      <div>\n",
              "<style scoped>\n",
              "    .dataframe tbody tr th:only-of-type {\n",
              "        vertical-align: middle;\n",
              "    }\n",
              "\n",
              "    .dataframe tbody tr th {\n",
              "        vertical-align: top;\n",
              "    }\n",
              "\n",
              "    .dataframe thead th {\n",
              "        text-align: right;\n",
              "    }\n",
              "</style>\n",
              "<table border=\"1\" class=\"dataframe\">\n",
              "  <thead>\n",
              "    <tr style=\"text-align: right;\">\n",
              "      <th></th>\n",
              "      <th>Lv50 Int</th>\n",
              "    </tr>\n",
              "    <tr>\n",
              "      <th>Stage</th>\n",
              "      <th></th>\n",
              "    </tr>\n",
              "  </thead>\n",
              "  <tbody>\n",
              "    <tr>\n",
              "      <th>Mega</th>\n",
              "      <td>233</td>\n",
              "    </tr>\n",
              "    <tr>\n",
              "      <th>Ultra</th>\n",
              "      <td>233</td>\n",
              "    </tr>\n",
              "    <tr>\n",
              "      <th>Rookie</th>\n",
              "      <td>208</td>\n",
              "    </tr>\n",
              "    <tr>\n",
              "      <th>Ultimate</th>\n",
              "      <td>203</td>\n",
              "    </tr>\n",
              "    <tr>\n",
              "      <th>Armor</th>\n",
              "      <td>158</td>\n",
              "    </tr>\n",
              "    <tr>\n",
              "      <th>Champion</th>\n",
              "      <td>148</td>\n",
              "    </tr>\n",
              "    <tr>\n",
              "      <th>In-Training</th>\n",
              "      <td>103</td>\n",
              "    </tr>\n",
              "    <tr>\n",
              "      <th>Baby</th>\n",
              "      <td>95</td>\n",
              "    </tr>\n",
              "  </tbody>\n",
              "</table>\n",
              "</div>\n",
              "      <button class=\"colab-df-convert\" onclick=\"convertToInteractive('df-f23c5ce7-52dc-4384-8012-9768fe1809ea')\"\n",
              "              title=\"Convert this dataframe to an interactive table.\"\n",
              "              style=\"display:none;\">\n",
              "        \n",
              "  <svg xmlns=\"http://www.w3.org/2000/svg\" height=\"24px\"viewBox=\"0 0 24 24\"\n",
              "       width=\"24px\">\n",
              "    <path d=\"M0 0h24v24H0V0z\" fill=\"none\"/>\n",
              "    <path d=\"M18.56 5.44l.94 2.06.94-2.06 2.06-.94-2.06-.94-.94-2.06-.94 2.06-2.06.94zm-11 1L8.5 8.5l.94-2.06 2.06-.94-2.06-.94L8.5 2.5l-.94 2.06-2.06.94zm10 10l.94 2.06.94-2.06 2.06-.94-2.06-.94-.94-2.06-.94 2.06-2.06.94z\"/><path d=\"M17.41 7.96l-1.37-1.37c-.4-.4-.92-.59-1.43-.59-.52 0-1.04.2-1.43.59L10.3 9.45l-7.72 7.72c-.78.78-.78 2.05 0 2.83L4 21.41c.39.39.9.59 1.41.59.51 0 1.02-.2 1.41-.59l7.78-7.78 2.81-2.81c.8-.78.8-2.07 0-2.86zM5.41 20L4 18.59l7.72-7.72 1.47 1.35L5.41 20z\"/>\n",
              "  </svg>\n",
              "      </button>\n",
              "      \n",
              "  <style>\n",
              "    .colab-df-container {\n",
              "      display:flex;\n",
              "      flex-wrap:wrap;\n",
              "      gap: 12px;\n",
              "    }\n",
              "\n",
              "    .colab-df-convert {\n",
              "      background-color: #E8F0FE;\n",
              "      border: none;\n",
              "      border-radius: 50%;\n",
              "      cursor: pointer;\n",
              "      display: none;\n",
              "      fill: #1967D2;\n",
              "      height: 32px;\n",
              "      padding: 0 0 0 0;\n",
              "      width: 32px;\n",
              "    }\n",
              "\n",
              "    .colab-df-convert:hover {\n",
              "      background-color: #E2EBFA;\n",
              "      box-shadow: 0px 1px 2px rgba(60, 64, 67, 0.3), 0px 1px 3px 1px rgba(60, 64, 67, 0.15);\n",
              "      fill: #174EA6;\n",
              "    }\n",
              "\n",
              "    [theme=dark] .colab-df-convert {\n",
              "      background-color: #3B4455;\n",
              "      fill: #D2E3FC;\n",
              "    }\n",
              "\n",
              "    [theme=dark] .colab-df-convert:hover {\n",
              "      background-color: #434B5C;\n",
              "      box-shadow: 0px 1px 3px 1px rgba(0, 0, 0, 0.15);\n",
              "      filter: drop-shadow(0px 1px 2px rgba(0, 0, 0, 0.3));\n",
              "      fill: #FFFFFF;\n",
              "    }\n",
              "  </style>\n",
              "\n",
              "      <script>\n",
              "        const buttonEl =\n",
              "          document.querySelector('#df-f23c5ce7-52dc-4384-8012-9768fe1809ea button.colab-df-convert');\n",
              "        buttonEl.style.display =\n",
              "          google.colab.kernel.accessAllowed ? 'block' : 'none';\n",
              "\n",
              "        async function convertToInteractive(key) {\n",
              "          const element = document.querySelector('#df-f23c5ce7-52dc-4384-8012-9768fe1809ea');\n",
              "          const dataTable =\n",
              "            await google.colab.kernel.invokeFunction('convertToInteractive',\n",
              "                                                     [key], {});\n",
              "          if (!dataTable) return;\n",
              "\n",
              "          const docLinkHtml = 'Like what you see? Visit the ' +\n",
              "            '<a target=\"_blank\" href=https://colab.research.google.com/notebooks/data_table.ipynb>data table notebook</a>'\n",
              "            + ' to learn more about interactive tables.';\n",
              "          element.innerHTML = '';\n",
              "          dataTable['output_type'] = 'display_data';\n",
              "          await google.colab.output.renderOutput(dataTable, element);\n",
              "          const docLink = document.createElement('div');\n",
              "          docLink.innerHTML = docLinkHtml;\n",
              "          element.appendChild(docLink);\n",
              "        }\n",
              "      </script>\n",
              "    </div>\n",
              "  </div>\n",
              "  "
            ]
          },
          "metadata": {},
          "execution_count": 15
        }
      ]
    },
    {
      "cell_type": "code",
      "source": [
        "df.groupby(\"Type\")[[\"Lv50 Int\"]].max().sort_values(by=[\"Lv50 Int\"],ascending=False)\n",
        "#  Virus > Data > Vaccine > Free"
      ],
      "metadata": {
        "colab": {
          "base_uri": "https://localhost:8080/",
          "height": 206
        },
        "id": "I6rcRHZ3gKa1",
        "outputId": "95227427-319d-48db-e3ec-e2cb3c62b7cb"
      },
      "execution_count": null,
      "outputs": [
        {
          "output_type": "execute_result",
          "data": {
            "text/plain": [
              "         Lv50 Int\n",
              "Type             \n",
              "Virus         233\n",
              "Data          213\n",
              "Vaccine       208\n",
              "Free          148"
            ],
            "text/html": [
              "\n",
              "  <div id=\"df-5b8768da-695e-4b05-a2e5-2c27beea6f1d\">\n",
              "    <div class=\"colab-df-container\">\n",
              "      <div>\n",
              "<style scoped>\n",
              "    .dataframe tbody tr th:only-of-type {\n",
              "        vertical-align: middle;\n",
              "    }\n",
              "\n",
              "    .dataframe tbody tr th {\n",
              "        vertical-align: top;\n",
              "    }\n",
              "\n",
              "    .dataframe thead th {\n",
              "        text-align: right;\n",
              "    }\n",
              "</style>\n",
              "<table border=\"1\" class=\"dataframe\">\n",
              "  <thead>\n",
              "    <tr style=\"text-align: right;\">\n",
              "      <th></th>\n",
              "      <th>Lv50 Int</th>\n",
              "    </tr>\n",
              "    <tr>\n",
              "      <th>Type</th>\n",
              "      <th></th>\n",
              "    </tr>\n",
              "  </thead>\n",
              "  <tbody>\n",
              "    <tr>\n",
              "      <th>Virus</th>\n",
              "      <td>233</td>\n",
              "    </tr>\n",
              "    <tr>\n",
              "      <th>Data</th>\n",
              "      <td>213</td>\n",
              "    </tr>\n",
              "    <tr>\n",
              "      <th>Vaccine</th>\n",
              "      <td>208</td>\n",
              "    </tr>\n",
              "    <tr>\n",
              "      <th>Free</th>\n",
              "      <td>148</td>\n",
              "    </tr>\n",
              "  </tbody>\n",
              "</table>\n",
              "</div>\n",
              "      <button class=\"colab-df-convert\" onclick=\"convertToInteractive('df-5b8768da-695e-4b05-a2e5-2c27beea6f1d')\"\n",
              "              title=\"Convert this dataframe to an interactive table.\"\n",
              "              style=\"display:none;\">\n",
              "        \n",
              "  <svg xmlns=\"http://www.w3.org/2000/svg\" height=\"24px\"viewBox=\"0 0 24 24\"\n",
              "       width=\"24px\">\n",
              "    <path d=\"M0 0h24v24H0V0z\" fill=\"none\"/>\n",
              "    <path d=\"M18.56 5.44l.94 2.06.94-2.06 2.06-.94-2.06-.94-.94-2.06-.94 2.06-2.06.94zm-11 1L8.5 8.5l.94-2.06 2.06-.94-2.06-.94L8.5 2.5l-.94 2.06-2.06.94zm10 10l.94 2.06.94-2.06 2.06-.94-2.06-.94-.94-2.06-.94 2.06-2.06.94z\"/><path d=\"M17.41 7.96l-1.37-1.37c-.4-.4-.92-.59-1.43-.59-.52 0-1.04.2-1.43.59L10.3 9.45l-7.72 7.72c-.78.78-.78 2.05 0 2.83L4 21.41c.39.39.9.59 1.41.59.51 0 1.02-.2 1.41-.59l7.78-7.78 2.81-2.81c.8-.78.8-2.07 0-2.86zM5.41 20L4 18.59l7.72-7.72 1.47 1.35L5.41 20z\"/>\n",
              "  </svg>\n",
              "      </button>\n",
              "      \n",
              "  <style>\n",
              "    .colab-df-container {\n",
              "      display:flex;\n",
              "      flex-wrap:wrap;\n",
              "      gap: 12px;\n",
              "    }\n",
              "\n",
              "    .colab-df-convert {\n",
              "      background-color: #E8F0FE;\n",
              "      border: none;\n",
              "      border-radius: 50%;\n",
              "      cursor: pointer;\n",
              "      display: none;\n",
              "      fill: #1967D2;\n",
              "      height: 32px;\n",
              "      padding: 0 0 0 0;\n",
              "      width: 32px;\n",
              "    }\n",
              "\n",
              "    .colab-df-convert:hover {\n",
              "      background-color: #E2EBFA;\n",
              "      box-shadow: 0px 1px 2px rgba(60, 64, 67, 0.3), 0px 1px 3px 1px rgba(60, 64, 67, 0.15);\n",
              "      fill: #174EA6;\n",
              "    }\n",
              "\n",
              "    [theme=dark] .colab-df-convert {\n",
              "      background-color: #3B4455;\n",
              "      fill: #D2E3FC;\n",
              "    }\n",
              "\n",
              "    [theme=dark] .colab-df-convert:hover {\n",
              "      background-color: #434B5C;\n",
              "      box-shadow: 0px 1px 3px 1px rgba(0, 0, 0, 0.15);\n",
              "      filter: drop-shadow(0px 1px 2px rgba(0, 0, 0, 0.3));\n",
              "      fill: #FFFFFF;\n",
              "    }\n",
              "  </style>\n",
              "\n",
              "      <script>\n",
              "        const buttonEl =\n",
              "          document.querySelector('#df-5b8768da-695e-4b05-a2e5-2c27beea6f1d button.colab-df-convert');\n",
              "        buttonEl.style.display =\n",
              "          google.colab.kernel.accessAllowed ? 'block' : 'none';\n",
              "\n",
              "        async function convertToInteractive(key) {\n",
              "          const element = document.querySelector('#df-5b8768da-695e-4b05-a2e5-2c27beea6f1d');\n",
              "          const dataTable =\n",
              "            await google.colab.kernel.invokeFunction('convertToInteractive',\n",
              "                                                     [key], {});\n",
              "          if (!dataTable) return;\n",
              "\n",
              "          const docLinkHtml = 'Like what you see? Visit the ' +\n",
              "            '<a target=\"_blank\" href=https://colab.research.google.com/notebooks/data_table.ipynb>data table notebook</a>'\n",
              "            + ' to learn more about interactive tables.';\n",
              "          element.innerHTML = '';\n",
              "          dataTable['output_type'] = 'display_data';\n",
              "          await google.colab.output.renderOutput(dataTable, element);\n",
              "          const docLink = document.createElement('div');\n",
              "          docLink.innerHTML = docLinkHtml;\n",
              "          element.appendChild(docLink);\n",
              "        }\n",
              "      </script>\n",
              "    </div>\n",
              "  </div>\n",
              "  "
            ]
          },
          "metadata": {},
          "execution_count": 16
        }
      ]
    },
    {
      "cell_type": "code",
      "source": [
        "df.groupby(\"Attribute\")[[\"Lv50 Int\"]].max().sort_values(by=[\"Lv50 Int\"],ascending=False)\n",
        "#  Dark > Plant > Light > Neutral > Water > Electric > Fire > Earth > Wind"
      ],
      "metadata": {
        "colab": {
          "base_uri": "https://localhost:8080/",
          "height": 363
        },
        "id": "bmp3o_Wkh-5G",
        "outputId": "b5781848-3fcc-4c79-c92b-0216e0ac93ed"
      },
      "execution_count": null,
      "outputs": [
        {
          "output_type": "execute_result",
          "data": {
            "text/plain": [
              "           Lv50 Int\n",
              "Attribute          \n",
              "Dark            233\n",
              "Plant           213\n",
              "Light           208\n",
              "Neutral         203\n",
              "Water           203\n",
              "Electric        198\n",
              "Fire            193\n",
              "Earth           148\n",
              "Wind            144"
            ],
            "text/html": [
              "\n",
              "  <div id=\"df-06a26d37-f3ec-4ff3-b5ef-c05674175a9b\">\n",
              "    <div class=\"colab-df-container\">\n",
              "      <div>\n",
              "<style scoped>\n",
              "    .dataframe tbody tr th:only-of-type {\n",
              "        vertical-align: middle;\n",
              "    }\n",
              "\n",
              "    .dataframe tbody tr th {\n",
              "        vertical-align: top;\n",
              "    }\n",
              "\n",
              "    .dataframe thead th {\n",
              "        text-align: right;\n",
              "    }\n",
              "</style>\n",
              "<table border=\"1\" class=\"dataframe\">\n",
              "  <thead>\n",
              "    <tr style=\"text-align: right;\">\n",
              "      <th></th>\n",
              "      <th>Lv50 Int</th>\n",
              "    </tr>\n",
              "    <tr>\n",
              "      <th>Attribute</th>\n",
              "      <th></th>\n",
              "    </tr>\n",
              "  </thead>\n",
              "  <tbody>\n",
              "    <tr>\n",
              "      <th>Dark</th>\n",
              "      <td>233</td>\n",
              "    </tr>\n",
              "    <tr>\n",
              "      <th>Plant</th>\n",
              "      <td>213</td>\n",
              "    </tr>\n",
              "    <tr>\n",
              "      <th>Light</th>\n",
              "      <td>208</td>\n",
              "    </tr>\n",
              "    <tr>\n",
              "      <th>Neutral</th>\n",
              "      <td>203</td>\n",
              "    </tr>\n",
              "    <tr>\n",
              "      <th>Water</th>\n",
              "      <td>203</td>\n",
              "    </tr>\n",
              "    <tr>\n",
              "      <th>Electric</th>\n",
              "      <td>198</td>\n",
              "    </tr>\n",
              "    <tr>\n",
              "      <th>Fire</th>\n",
              "      <td>193</td>\n",
              "    </tr>\n",
              "    <tr>\n",
              "      <th>Earth</th>\n",
              "      <td>148</td>\n",
              "    </tr>\n",
              "    <tr>\n",
              "      <th>Wind</th>\n",
              "      <td>144</td>\n",
              "    </tr>\n",
              "  </tbody>\n",
              "</table>\n",
              "</div>\n",
              "      <button class=\"colab-df-convert\" onclick=\"convertToInteractive('df-06a26d37-f3ec-4ff3-b5ef-c05674175a9b')\"\n",
              "              title=\"Convert this dataframe to an interactive table.\"\n",
              "              style=\"display:none;\">\n",
              "        \n",
              "  <svg xmlns=\"http://www.w3.org/2000/svg\" height=\"24px\"viewBox=\"0 0 24 24\"\n",
              "       width=\"24px\">\n",
              "    <path d=\"M0 0h24v24H0V0z\" fill=\"none\"/>\n",
              "    <path d=\"M18.56 5.44l.94 2.06.94-2.06 2.06-.94-2.06-.94-.94-2.06-.94 2.06-2.06.94zm-11 1L8.5 8.5l.94-2.06 2.06-.94-2.06-.94L8.5 2.5l-.94 2.06-2.06.94zm10 10l.94 2.06.94-2.06 2.06-.94-2.06-.94-.94-2.06-.94 2.06-2.06.94z\"/><path d=\"M17.41 7.96l-1.37-1.37c-.4-.4-.92-.59-1.43-.59-.52 0-1.04.2-1.43.59L10.3 9.45l-7.72 7.72c-.78.78-.78 2.05 0 2.83L4 21.41c.39.39.9.59 1.41.59.51 0 1.02-.2 1.41-.59l7.78-7.78 2.81-2.81c.8-.78.8-2.07 0-2.86zM5.41 20L4 18.59l7.72-7.72 1.47 1.35L5.41 20z\"/>\n",
              "  </svg>\n",
              "      </button>\n",
              "      \n",
              "  <style>\n",
              "    .colab-df-container {\n",
              "      display:flex;\n",
              "      flex-wrap:wrap;\n",
              "      gap: 12px;\n",
              "    }\n",
              "\n",
              "    .colab-df-convert {\n",
              "      background-color: #E8F0FE;\n",
              "      border: none;\n",
              "      border-radius: 50%;\n",
              "      cursor: pointer;\n",
              "      display: none;\n",
              "      fill: #1967D2;\n",
              "      height: 32px;\n",
              "      padding: 0 0 0 0;\n",
              "      width: 32px;\n",
              "    }\n",
              "\n",
              "    .colab-df-convert:hover {\n",
              "      background-color: #E2EBFA;\n",
              "      box-shadow: 0px 1px 2px rgba(60, 64, 67, 0.3), 0px 1px 3px 1px rgba(60, 64, 67, 0.15);\n",
              "      fill: #174EA6;\n",
              "    }\n",
              "\n",
              "    [theme=dark] .colab-df-convert {\n",
              "      background-color: #3B4455;\n",
              "      fill: #D2E3FC;\n",
              "    }\n",
              "\n",
              "    [theme=dark] .colab-df-convert:hover {\n",
              "      background-color: #434B5C;\n",
              "      box-shadow: 0px 1px 3px 1px rgba(0, 0, 0, 0.15);\n",
              "      filter: drop-shadow(0px 1px 2px rgba(0, 0, 0, 0.3));\n",
              "      fill: #FFFFFF;\n",
              "    }\n",
              "  </style>\n",
              "\n",
              "      <script>\n",
              "        const buttonEl =\n",
              "          document.querySelector('#df-06a26d37-f3ec-4ff3-b5ef-c05674175a9b button.colab-df-convert');\n",
              "        buttonEl.style.display =\n",
              "          google.colab.kernel.accessAllowed ? 'block' : 'none';\n",
              "\n",
              "        async function convertToInteractive(key) {\n",
              "          const element = document.querySelector('#df-06a26d37-f3ec-4ff3-b5ef-c05674175a9b');\n",
              "          const dataTable =\n",
              "            await google.colab.kernel.invokeFunction('convertToInteractive',\n",
              "                                                     [key], {});\n",
              "          if (!dataTable) return;\n",
              "\n",
              "          const docLinkHtml = 'Like what you see? Visit the ' +\n",
              "            '<a target=\"_blank\" href=https://colab.research.google.com/notebooks/data_table.ipynb>data table notebook</a>'\n",
              "            + ' to learn more about interactive tables.';\n",
              "          element.innerHTML = '';\n",
              "          dataTable['output_type'] = 'display_data';\n",
              "          await google.colab.output.renderOutput(dataTable, element);\n",
              "          const docLink = document.createElement('div');\n",
              "          docLink.innerHTML = docLinkHtml;\n",
              "          element.appendChild(docLink);\n",
              "        }\n",
              "      </script>\n",
              "    </div>\n",
              "  </div>\n",
              "  "
            ]
          },
          "metadata": {},
          "execution_count": 17
        }
      ]
    },
    {
      "cell_type": "code",
      "source": [
        "df.groupby([\"Type\",\"Attribute\", \"Stage\"])[[\"Lv50 Int\"]].max().sort_values(by=[\"Lv50 Int\"],ascending=False)[:10]"
      ],
      "metadata": {
        "colab": {
          "base_uri": "https://localhost:8080/",
          "height": 394
        },
        "id": "f83EWlFFi2_b",
        "outputId": "6764ae05-de67-4a2e-f144-247813920f0f"
      },
      "execution_count": null,
      "outputs": [
        {
          "output_type": "execute_result",
          "data": {
            "text/plain": [
              "                            Lv50 Int\n",
              "Type    Attribute Stage             \n",
              "Virus   Dark      Ultra          233\n",
              "                  Mega           233\n",
              "Data    Plant     Mega           213\n",
              "Vaccine Light     Mega           208\n",
              "                  Rookie         208\n",
              "        Water     Mega           203\n",
              "Virus   Neutral   Ultimate       203\n",
              "Data    Water     Mega           198\n",
              "Virus   Electric  Mega           198\n",
              "        Dark      Ultimate       198"
            ],
            "text/html": [
              "\n",
              "  <div id=\"df-4af31f27-415c-4ba0-a158-28f2483e94a2\">\n",
              "    <div class=\"colab-df-container\">\n",
              "      <div>\n",
              "<style scoped>\n",
              "    .dataframe tbody tr th:only-of-type {\n",
              "        vertical-align: middle;\n",
              "    }\n",
              "\n",
              "    .dataframe tbody tr th {\n",
              "        vertical-align: top;\n",
              "    }\n",
              "\n",
              "    .dataframe thead th {\n",
              "        text-align: right;\n",
              "    }\n",
              "</style>\n",
              "<table border=\"1\" class=\"dataframe\">\n",
              "  <thead>\n",
              "    <tr style=\"text-align: right;\">\n",
              "      <th></th>\n",
              "      <th></th>\n",
              "      <th></th>\n",
              "      <th>Lv50 Int</th>\n",
              "    </tr>\n",
              "    <tr>\n",
              "      <th>Type</th>\n",
              "      <th>Attribute</th>\n",
              "      <th>Stage</th>\n",
              "      <th></th>\n",
              "    </tr>\n",
              "  </thead>\n",
              "  <tbody>\n",
              "    <tr>\n",
              "      <th rowspan=\"2\" valign=\"top\">Virus</th>\n",
              "      <th rowspan=\"2\" valign=\"top\">Dark</th>\n",
              "      <th>Ultra</th>\n",
              "      <td>233</td>\n",
              "    </tr>\n",
              "    <tr>\n",
              "      <th>Mega</th>\n",
              "      <td>233</td>\n",
              "    </tr>\n",
              "    <tr>\n",
              "      <th>Data</th>\n",
              "      <th>Plant</th>\n",
              "      <th>Mega</th>\n",
              "      <td>213</td>\n",
              "    </tr>\n",
              "    <tr>\n",
              "      <th rowspan=\"3\" valign=\"top\">Vaccine</th>\n",
              "      <th rowspan=\"2\" valign=\"top\">Light</th>\n",
              "      <th>Mega</th>\n",
              "      <td>208</td>\n",
              "    </tr>\n",
              "    <tr>\n",
              "      <th>Rookie</th>\n",
              "      <td>208</td>\n",
              "    </tr>\n",
              "    <tr>\n",
              "      <th>Water</th>\n",
              "      <th>Mega</th>\n",
              "      <td>203</td>\n",
              "    </tr>\n",
              "    <tr>\n",
              "      <th>Virus</th>\n",
              "      <th>Neutral</th>\n",
              "      <th>Ultimate</th>\n",
              "      <td>203</td>\n",
              "    </tr>\n",
              "    <tr>\n",
              "      <th>Data</th>\n",
              "      <th>Water</th>\n",
              "      <th>Mega</th>\n",
              "      <td>198</td>\n",
              "    </tr>\n",
              "    <tr>\n",
              "      <th rowspan=\"2\" valign=\"top\">Virus</th>\n",
              "      <th>Electric</th>\n",
              "      <th>Mega</th>\n",
              "      <td>198</td>\n",
              "    </tr>\n",
              "    <tr>\n",
              "      <th>Dark</th>\n",
              "      <th>Ultimate</th>\n",
              "      <td>198</td>\n",
              "    </tr>\n",
              "  </tbody>\n",
              "</table>\n",
              "</div>\n",
              "      <button class=\"colab-df-convert\" onclick=\"convertToInteractive('df-4af31f27-415c-4ba0-a158-28f2483e94a2')\"\n",
              "              title=\"Convert this dataframe to an interactive table.\"\n",
              "              style=\"display:none;\">\n",
              "        \n",
              "  <svg xmlns=\"http://www.w3.org/2000/svg\" height=\"24px\"viewBox=\"0 0 24 24\"\n",
              "       width=\"24px\">\n",
              "    <path d=\"M0 0h24v24H0V0z\" fill=\"none\"/>\n",
              "    <path d=\"M18.56 5.44l.94 2.06.94-2.06 2.06-.94-2.06-.94-.94-2.06-.94 2.06-2.06.94zm-11 1L8.5 8.5l.94-2.06 2.06-.94-2.06-.94L8.5 2.5l-.94 2.06-2.06.94zm10 10l.94 2.06.94-2.06 2.06-.94-2.06-.94-.94-2.06-.94 2.06-2.06.94z\"/><path d=\"M17.41 7.96l-1.37-1.37c-.4-.4-.92-.59-1.43-.59-.52 0-1.04.2-1.43.59L10.3 9.45l-7.72 7.72c-.78.78-.78 2.05 0 2.83L4 21.41c.39.39.9.59 1.41.59.51 0 1.02-.2 1.41-.59l7.78-7.78 2.81-2.81c.8-.78.8-2.07 0-2.86zM5.41 20L4 18.59l7.72-7.72 1.47 1.35L5.41 20z\"/>\n",
              "  </svg>\n",
              "      </button>\n",
              "      \n",
              "  <style>\n",
              "    .colab-df-container {\n",
              "      display:flex;\n",
              "      flex-wrap:wrap;\n",
              "      gap: 12px;\n",
              "    }\n",
              "\n",
              "    .colab-df-convert {\n",
              "      background-color: #E8F0FE;\n",
              "      border: none;\n",
              "      border-radius: 50%;\n",
              "      cursor: pointer;\n",
              "      display: none;\n",
              "      fill: #1967D2;\n",
              "      height: 32px;\n",
              "      padding: 0 0 0 0;\n",
              "      width: 32px;\n",
              "    }\n",
              "\n",
              "    .colab-df-convert:hover {\n",
              "      background-color: #E2EBFA;\n",
              "      box-shadow: 0px 1px 2px rgba(60, 64, 67, 0.3), 0px 1px 3px 1px rgba(60, 64, 67, 0.15);\n",
              "      fill: #174EA6;\n",
              "    }\n",
              "\n",
              "    [theme=dark] .colab-df-convert {\n",
              "      background-color: #3B4455;\n",
              "      fill: #D2E3FC;\n",
              "    }\n",
              "\n",
              "    [theme=dark] .colab-df-convert:hover {\n",
              "      background-color: #434B5C;\n",
              "      box-shadow: 0px 1px 3px 1px rgba(0, 0, 0, 0.15);\n",
              "      filter: drop-shadow(0px 1px 2px rgba(0, 0, 0, 0.3));\n",
              "      fill: #FFFFFF;\n",
              "    }\n",
              "  </style>\n",
              "\n",
              "      <script>\n",
              "        const buttonEl =\n",
              "          document.querySelector('#df-4af31f27-415c-4ba0-a158-28f2483e94a2 button.colab-df-convert');\n",
              "        buttonEl.style.display =\n",
              "          google.colab.kernel.accessAllowed ? 'block' : 'none';\n",
              "\n",
              "        async function convertToInteractive(key) {\n",
              "          const element = document.querySelector('#df-4af31f27-415c-4ba0-a158-28f2483e94a2');\n",
              "          const dataTable =\n",
              "            await google.colab.kernel.invokeFunction('convertToInteractive',\n",
              "                                                     [key], {});\n",
              "          if (!dataTable) return;\n",
              "\n",
              "          const docLinkHtml = 'Like what you see? Visit the ' +\n",
              "            '<a target=\"_blank\" href=https://colab.research.google.com/notebooks/data_table.ipynb>data table notebook</a>'\n",
              "            + ' to learn more about interactive tables.';\n",
              "          element.innerHTML = '';\n",
              "          dataTable['output_type'] = 'display_data';\n",
              "          await google.colab.output.renderOutput(dataTable, element);\n",
              "          const docLink = document.createElement('div');\n",
              "          docLink.innerHTML = docLinkHtml;\n",
              "          element.appendChild(docLink);\n",
              "        }\n",
              "      </script>\n",
              "    </div>\n",
              "  </div>\n",
              "  "
            ]
          },
          "metadata": {},
          "execution_count": 18
        }
      ]
    },
    {
      "cell_type": "code",
      "source": [
        "df.groupby([\"Type\",\"Attribute\"])[[\"Lv50 Int\"]].max().sort_values(by=[\"Lv50 Int\"],ascending=False)[:10]"
      ],
      "metadata": {
        "colab": {
          "base_uri": "https://localhost:8080/",
          "height": 394
        },
        "id": "0htyNoJoiUFd",
        "outputId": "e3feab2a-955c-4b05-8a1a-ad8d19d26393"
      },
      "execution_count": null,
      "outputs": [
        {
          "output_type": "execute_result",
          "data": {
            "text/plain": [
              "                   Lv50 Int\n",
              "Type    Attribute          \n",
              "Virus   Dark            233\n",
              "Data    Plant           213\n",
              "Vaccine Light           208\n",
              "Virus   Neutral         203\n",
              "Vaccine Water           203\n",
              "Virus   Electric        198\n",
              "Data    Water           198\n",
              "        Dark            193\n",
              "Vaccine Fire            193\n",
              "Data    Light           188"
            ],
            "text/html": [
              "\n",
              "  <div id=\"df-661b3980-78cd-4b89-bfea-ca71952112e3\">\n",
              "    <div class=\"colab-df-container\">\n",
              "      <div>\n",
              "<style scoped>\n",
              "    .dataframe tbody tr th:only-of-type {\n",
              "        vertical-align: middle;\n",
              "    }\n",
              "\n",
              "    .dataframe tbody tr th {\n",
              "        vertical-align: top;\n",
              "    }\n",
              "\n",
              "    .dataframe thead th {\n",
              "        text-align: right;\n",
              "    }\n",
              "</style>\n",
              "<table border=\"1\" class=\"dataframe\">\n",
              "  <thead>\n",
              "    <tr style=\"text-align: right;\">\n",
              "      <th></th>\n",
              "      <th></th>\n",
              "      <th>Lv50 Int</th>\n",
              "    </tr>\n",
              "    <tr>\n",
              "      <th>Type</th>\n",
              "      <th>Attribute</th>\n",
              "      <th></th>\n",
              "    </tr>\n",
              "  </thead>\n",
              "  <tbody>\n",
              "    <tr>\n",
              "      <th>Virus</th>\n",
              "      <th>Dark</th>\n",
              "      <td>233</td>\n",
              "    </tr>\n",
              "    <tr>\n",
              "      <th>Data</th>\n",
              "      <th>Plant</th>\n",
              "      <td>213</td>\n",
              "    </tr>\n",
              "    <tr>\n",
              "      <th>Vaccine</th>\n",
              "      <th>Light</th>\n",
              "      <td>208</td>\n",
              "    </tr>\n",
              "    <tr>\n",
              "      <th>Virus</th>\n",
              "      <th>Neutral</th>\n",
              "      <td>203</td>\n",
              "    </tr>\n",
              "    <tr>\n",
              "      <th>Vaccine</th>\n",
              "      <th>Water</th>\n",
              "      <td>203</td>\n",
              "    </tr>\n",
              "    <tr>\n",
              "      <th>Virus</th>\n",
              "      <th>Electric</th>\n",
              "      <td>198</td>\n",
              "    </tr>\n",
              "    <tr>\n",
              "      <th rowspan=\"2\" valign=\"top\">Data</th>\n",
              "      <th>Water</th>\n",
              "      <td>198</td>\n",
              "    </tr>\n",
              "    <tr>\n",
              "      <th>Dark</th>\n",
              "      <td>193</td>\n",
              "    </tr>\n",
              "    <tr>\n",
              "      <th>Vaccine</th>\n",
              "      <th>Fire</th>\n",
              "      <td>193</td>\n",
              "    </tr>\n",
              "    <tr>\n",
              "      <th>Data</th>\n",
              "      <th>Light</th>\n",
              "      <td>188</td>\n",
              "    </tr>\n",
              "  </tbody>\n",
              "</table>\n",
              "</div>\n",
              "      <button class=\"colab-df-convert\" onclick=\"convertToInteractive('df-661b3980-78cd-4b89-bfea-ca71952112e3')\"\n",
              "              title=\"Convert this dataframe to an interactive table.\"\n",
              "              style=\"display:none;\">\n",
              "        \n",
              "  <svg xmlns=\"http://www.w3.org/2000/svg\" height=\"24px\"viewBox=\"0 0 24 24\"\n",
              "       width=\"24px\">\n",
              "    <path d=\"M0 0h24v24H0V0z\" fill=\"none\"/>\n",
              "    <path d=\"M18.56 5.44l.94 2.06.94-2.06 2.06-.94-2.06-.94-.94-2.06-.94 2.06-2.06.94zm-11 1L8.5 8.5l.94-2.06 2.06-.94-2.06-.94L8.5 2.5l-.94 2.06-2.06.94zm10 10l.94 2.06.94-2.06 2.06-.94-2.06-.94-.94-2.06-.94 2.06-2.06.94z\"/><path d=\"M17.41 7.96l-1.37-1.37c-.4-.4-.92-.59-1.43-.59-.52 0-1.04.2-1.43.59L10.3 9.45l-7.72 7.72c-.78.78-.78 2.05 0 2.83L4 21.41c.39.39.9.59 1.41.59.51 0 1.02-.2 1.41-.59l7.78-7.78 2.81-2.81c.8-.78.8-2.07 0-2.86zM5.41 20L4 18.59l7.72-7.72 1.47 1.35L5.41 20z\"/>\n",
              "  </svg>\n",
              "      </button>\n",
              "      \n",
              "  <style>\n",
              "    .colab-df-container {\n",
              "      display:flex;\n",
              "      flex-wrap:wrap;\n",
              "      gap: 12px;\n",
              "    }\n",
              "\n",
              "    .colab-df-convert {\n",
              "      background-color: #E8F0FE;\n",
              "      border: none;\n",
              "      border-radius: 50%;\n",
              "      cursor: pointer;\n",
              "      display: none;\n",
              "      fill: #1967D2;\n",
              "      height: 32px;\n",
              "      padding: 0 0 0 0;\n",
              "      width: 32px;\n",
              "    }\n",
              "\n",
              "    .colab-df-convert:hover {\n",
              "      background-color: #E2EBFA;\n",
              "      box-shadow: 0px 1px 2px rgba(60, 64, 67, 0.3), 0px 1px 3px 1px rgba(60, 64, 67, 0.15);\n",
              "      fill: #174EA6;\n",
              "    }\n",
              "\n",
              "    [theme=dark] .colab-df-convert {\n",
              "      background-color: #3B4455;\n",
              "      fill: #D2E3FC;\n",
              "    }\n",
              "\n",
              "    [theme=dark] .colab-df-convert:hover {\n",
              "      background-color: #434B5C;\n",
              "      box-shadow: 0px 1px 3px 1px rgba(0, 0, 0, 0.15);\n",
              "      filter: drop-shadow(0px 1px 2px rgba(0, 0, 0, 0.3));\n",
              "      fill: #FFFFFF;\n",
              "    }\n",
              "  </style>\n",
              "\n",
              "      <script>\n",
              "        const buttonEl =\n",
              "          document.querySelector('#df-661b3980-78cd-4b89-bfea-ca71952112e3 button.colab-df-convert');\n",
              "        buttonEl.style.display =\n",
              "          google.colab.kernel.accessAllowed ? 'block' : 'none';\n",
              "\n",
              "        async function convertToInteractive(key) {\n",
              "          const element = document.querySelector('#df-661b3980-78cd-4b89-bfea-ca71952112e3');\n",
              "          const dataTable =\n",
              "            await google.colab.kernel.invokeFunction('convertToInteractive',\n",
              "                                                     [key], {});\n",
              "          if (!dataTable) return;\n",
              "\n",
              "          const docLinkHtml = 'Like what you see? Visit the ' +\n",
              "            '<a target=\"_blank\" href=https://colab.research.google.com/notebooks/data_table.ipynb>data table notebook</a>'\n",
              "            + ' to learn more about interactive tables.';\n",
              "          element.innerHTML = '';\n",
              "          dataTable['output_type'] = 'display_data';\n",
              "          await google.colab.output.renderOutput(dataTable, element);\n",
              "          const docLink = document.createElement('div');\n",
              "          docLink.innerHTML = docLinkHtml;\n",
              "          element.appendChild(docLink);\n",
              "        }\n",
              "      </script>\n",
              "    </div>\n",
              "  </div>\n",
              "  "
            ]
          },
          "metadata": {},
          "execution_count": 19
        }
      ]
    },
    {
      "cell_type": "code",
      "source": [
        "df.groupby([\"Stage\",\"Attribute\"])[[\"Lv50 Int\"]].max().sort_values(by=[\"Lv50 Int\"],ascending=False)[:5]"
      ],
      "metadata": {
        "colab": {
          "base_uri": "https://localhost:8080/",
          "height": 237
        },
        "id": "wBVFKlTHibaX",
        "outputId": "34a363a0-3ed8-4360-8344-cd550402d401"
      },
      "execution_count": null,
      "outputs": [
        {
          "output_type": "execute_result",
          "data": {
            "text/plain": [
              "                  Lv50 Int\n",
              "Stage  Attribute          \n",
              "Mega   Dark            233\n",
              "Ultra  Dark            233\n",
              "Mega   Plant           213\n",
              "       Light           208\n",
              "Rookie Light           208"
            ],
            "text/html": [
              "\n",
              "  <div id=\"df-fbf40556-be96-4a37-a49d-a55904b9df6c\">\n",
              "    <div class=\"colab-df-container\">\n",
              "      <div>\n",
              "<style scoped>\n",
              "    .dataframe tbody tr th:only-of-type {\n",
              "        vertical-align: middle;\n",
              "    }\n",
              "\n",
              "    .dataframe tbody tr th {\n",
              "        vertical-align: top;\n",
              "    }\n",
              "\n",
              "    .dataframe thead th {\n",
              "        text-align: right;\n",
              "    }\n",
              "</style>\n",
              "<table border=\"1\" class=\"dataframe\">\n",
              "  <thead>\n",
              "    <tr style=\"text-align: right;\">\n",
              "      <th></th>\n",
              "      <th></th>\n",
              "      <th>Lv50 Int</th>\n",
              "    </tr>\n",
              "    <tr>\n",
              "      <th>Stage</th>\n",
              "      <th>Attribute</th>\n",
              "      <th></th>\n",
              "    </tr>\n",
              "  </thead>\n",
              "  <tbody>\n",
              "    <tr>\n",
              "      <th>Mega</th>\n",
              "      <th>Dark</th>\n",
              "      <td>233</td>\n",
              "    </tr>\n",
              "    <tr>\n",
              "      <th>Ultra</th>\n",
              "      <th>Dark</th>\n",
              "      <td>233</td>\n",
              "    </tr>\n",
              "    <tr>\n",
              "      <th rowspan=\"2\" valign=\"top\">Mega</th>\n",
              "      <th>Plant</th>\n",
              "      <td>213</td>\n",
              "    </tr>\n",
              "    <tr>\n",
              "      <th>Light</th>\n",
              "      <td>208</td>\n",
              "    </tr>\n",
              "    <tr>\n",
              "      <th>Rookie</th>\n",
              "      <th>Light</th>\n",
              "      <td>208</td>\n",
              "    </tr>\n",
              "  </tbody>\n",
              "</table>\n",
              "</div>\n",
              "      <button class=\"colab-df-convert\" onclick=\"convertToInteractive('df-fbf40556-be96-4a37-a49d-a55904b9df6c')\"\n",
              "              title=\"Convert this dataframe to an interactive table.\"\n",
              "              style=\"display:none;\">\n",
              "        \n",
              "  <svg xmlns=\"http://www.w3.org/2000/svg\" height=\"24px\"viewBox=\"0 0 24 24\"\n",
              "       width=\"24px\">\n",
              "    <path d=\"M0 0h24v24H0V0z\" fill=\"none\"/>\n",
              "    <path d=\"M18.56 5.44l.94 2.06.94-2.06 2.06-.94-2.06-.94-.94-2.06-.94 2.06-2.06.94zm-11 1L8.5 8.5l.94-2.06 2.06-.94-2.06-.94L8.5 2.5l-.94 2.06-2.06.94zm10 10l.94 2.06.94-2.06 2.06-.94-2.06-.94-.94-2.06-.94 2.06-2.06.94z\"/><path d=\"M17.41 7.96l-1.37-1.37c-.4-.4-.92-.59-1.43-.59-.52 0-1.04.2-1.43.59L10.3 9.45l-7.72 7.72c-.78.78-.78 2.05 0 2.83L4 21.41c.39.39.9.59 1.41.59.51 0 1.02-.2 1.41-.59l7.78-7.78 2.81-2.81c.8-.78.8-2.07 0-2.86zM5.41 20L4 18.59l7.72-7.72 1.47 1.35L5.41 20z\"/>\n",
              "  </svg>\n",
              "      </button>\n",
              "      \n",
              "  <style>\n",
              "    .colab-df-container {\n",
              "      display:flex;\n",
              "      flex-wrap:wrap;\n",
              "      gap: 12px;\n",
              "    }\n",
              "\n",
              "    .colab-df-convert {\n",
              "      background-color: #E8F0FE;\n",
              "      border: none;\n",
              "      border-radius: 50%;\n",
              "      cursor: pointer;\n",
              "      display: none;\n",
              "      fill: #1967D2;\n",
              "      height: 32px;\n",
              "      padding: 0 0 0 0;\n",
              "      width: 32px;\n",
              "    }\n",
              "\n",
              "    .colab-df-convert:hover {\n",
              "      background-color: #E2EBFA;\n",
              "      box-shadow: 0px 1px 2px rgba(60, 64, 67, 0.3), 0px 1px 3px 1px rgba(60, 64, 67, 0.15);\n",
              "      fill: #174EA6;\n",
              "    }\n",
              "\n",
              "    [theme=dark] .colab-df-convert {\n",
              "      background-color: #3B4455;\n",
              "      fill: #D2E3FC;\n",
              "    }\n",
              "\n",
              "    [theme=dark] .colab-df-convert:hover {\n",
              "      background-color: #434B5C;\n",
              "      box-shadow: 0px 1px 3px 1px rgba(0, 0, 0, 0.15);\n",
              "      filter: drop-shadow(0px 1px 2px rgba(0, 0, 0, 0.3));\n",
              "      fill: #FFFFFF;\n",
              "    }\n",
              "  </style>\n",
              "\n",
              "      <script>\n",
              "        const buttonEl =\n",
              "          document.querySelector('#df-fbf40556-be96-4a37-a49d-a55904b9df6c button.colab-df-convert');\n",
              "        buttonEl.style.display =\n",
              "          google.colab.kernel.accessAllowed ? 'block' : 'none';\n",
              "\n",
              "        async function convertToInteractive(key) {\n",
              "          const element = document.querySelector('#df-fbf40556-be96-4a37-a49d-a55904b9df6c');\n",
              "          const dataTable =\n",
              "            await google.colab.kernel.invokeFunction('convertToInteractive',\n",
              "                                                     [key], {});\n",
              "          if (!dataTable) return;\n",
              "\n",
              "          const docLinkHtml = 'Like what you see? Visit the ' +\n",
              "            '<a target=\"_blank\" href=https://colab.research.google.com/notebooks/data_table.ipynb>data table notebook</a>'\n",
              "            + ' to learn more about interactive tables.';\n",
              "          element.innerHTML = '';\n",
              "          dataTable['output_type'] = 'display_data';\n",
              "          await google.colab.output.renderOutput(dataTable, element);\n",
              "          const docLink = document.createElement('div');\n",
              "          docLink.innerHTML = docLinkHtml;\n",
              "          element.appendChild(docLink);\n",
              "        }\n",
              "      </script>\n",
              "    </div>\n",
              "  </div>\n",
              "  "
            ]
          },
          "metadata": {},
          "execution_count": 20
        }
      ]
    },
    {
      "cell_type": "markdown",
      "source": [
        "### Pivot Table"
      ],
      "metadata": {
        "id": "2wcUZItrjdZg"
      }
    },
    {
      "cell_type": "code",
      "source": [
        "df.pivot_table(index=\"Attribute\", columns=\"Stage\", aggfunc={\"Lv50 Int\": [max] } ).fillna(0)"
      ],
      "metadata": {
        "colab": {
          "base_uri": "https://localhost:8080/",
          "height": 426
        },
        "id": "J-ObVnCWjNbz",
        "outputId": "d509444a-0c82-4f3e-efa1-14dc0638e748"
      },
      "execution_count": null,
      "outputs": [
        {
          "output_type": "execute_result",
          "data": {
            "text/plain": [
              "          Lv50 Int                                                         \n",
              "               max                                                         \n",
              "Stage        Armor  Baby Champion In-Training   Mega Rookie Ultimate  Ultra\n",
              "Attribute                                                                  \n",
              "Dark           0.0   0.0    143.0       102.0  233.0  114.0    198.0  233.0\n",
              "Earth        148.0   0.0     98.0        54.0  139.0  103.0    128.0    0.0\n",
              "Electric       0.0   0.0    133.0         0.0  198.0   79.0    175.0    0.0\n",
              "Fire          89.0   0.0    138.0        52.0  193.0   79.0    133.0    0.0\n",
              "Light        158.0   0.0    143.0       103.0  208.0  208.0    188.0  154.0\n",
              "Neutral        0.0  95.0     94.0        78.0  173.0   66.0    203.0   89.0\n",
              "Plant          0.0   0.0    141.0        75.0  213.0   93.0    168.0    0.0\n",
              "Water          0.0   0.0    148.0       103.0  203.0  113.0    158.0    0.0\n",
              "Wind           0.0   0.0     99.0        75.0  144.0   92.0    124.0    0.0"
            ],
            "text/html": [
              "\n",
              "  <div id=\"df-ac7d38c9-1b13-4ded-88e7-03c0df393fac\">\n",
              "    <div class=\"colab-df-container\">\n",
              "      <div>\n",
              "<style scoped>\n",
              "    .dataframe tbody tr th:only-of-type {\n",
              "        vertical-align: middle;\n",
              "    }\n",
              "\n",
              "    .dataframe tbody tr th {\n",
              "        vertical-align: top;\n",
              "    }\n",
              "\n",
              "    .dataframe thead tr th {\n",
              "        text-align: left;\n",
              "    }\n",
              "\n",
              "    .dataframe thead tr:last-of-type th {\n",
              "        text-align: right;\n",
              "    }\n",
              "</style>\n",
              "<table border=\"1\" class=\"dataframe\">\n",
              "  <thead>\n",
              "    <tr>\n",
              "      <th></th>\n",
              "      <th colspan=\"8\" halign=\"left\">Lv50 Int</th>\n",
              "    </tr>\n",
              "    <tr>\n",
              "      <th></th>\n",
              "      <th colspan=\"8\" halign=\"left\">max</th>\n",
              "    </tr>\n",
              "    <tr>\n",
              "      <th>Stage</th>\n",
              "      <th>Armor</th>\n",
              "      <th>Baby</th>\n",
              "      <th>Champion</th>\n",
              "      <th>In-Training</th>\n",
              "      <th>Mega</th>\n",
              "      <th>Rookie</th>\n",
              "      <th>Ultimate</th>\n",
              "      <th>Ultra</th>\n",
              "    </tr>\n",
              "    <tr>\n",
              "      <th>Attribute</th>\n",
              "      <th></th>\n",
              "      <th></th>\n",
              "      <th></th>\n",
              "      <th></th>\n",
              "      <th></th>\n",
              "      <th></th>\n",
              "      <th></th>\n",
              "      <th></th>\n",
              "    </tr>\n",
              "  </thead>\n",
              "  <tbody>\n",
              "    <tr>\n",
              "      <th>Dark</th>\n",
              "      <td>0.0</td>\n",
              "      <td>0.0</td>\n",
              "      <td>143.0</td>\n",
              "      <td>102.0</td>\n",
              "      <td>233.0</td>\n",
              "      <td>114.0</td>\n",
              "      <td>198.0</td>\n",
              "      <td>233.0</td>\n",
              "    </tr>\n",
              "    <tr>\n",
              "      <th>Earth</th>\n",
              "      <td>148.0</td>\n",
              "      <td>0.0</td>\n",
              "      <td>98.0</td>\n",
              "      <td>54.0</td>\n",
              "      <td>139.0</td>\n",
              "      <td>103.0</td>\n",
              "      <td>128.0</td>\n",
              "      <td>0.0</td>\n",
              "    </tr>\n",
              "    <tr>\n",
              "      <th>Electric</th>\n",
              "      <td>0.0</td>\n",
              "      <td>0.0</td>\n",
              "      <td>133.0</td>\n",
              "      <td>0.0</td>\n",
              "      <td>198.0</td>\n",
              "      <td>79.0</td>\n",
              "      <td>175.0</td>\n",
              "      <td>0.0</td>\n",
              "    </tr>\n",
              "    <tr>\n",
              "      <th>Fire</th>\n",
              "      <td>89.0</td>\n",
              "      <td>0.0</td>\n",
              "      <td>138.0</td>\n",
              "      <td>52.0</td>\n",
              "      <td>193.0</td>\n",
              "      <td>79.0</td>\n",
              "      <td>133.0</td>\n",
              "      <td>0.0</td>\n",
              "    </tr>\n",
              "    <tr>\n",
              "      <th>Light</th>\n",
              "      <td>158.0</td>\n",
              "      <td>0.0</td>\n",
              "      <td>143.0</td>\n",
              "      <td>103.0</td>\n",
              "      <td>208.0</td>\n",
              "      <td>208.0</td>\n",
              "      <td>188.0</td>\n",
              "      <td>154.0</td>\n",
              "    </tr>\n",
              "    <tr>\n",
              "      <th>Neutral</th>\n",
              "      <td>0.0</td>\n",
              "      <td>95.0</td>\n",
              "      <td>94.0</td>\n",
              "      <td>78.0</td>\n",
              "      <td>173.0</td>\n",
              "      <td>66.0</td>\n",
              "      <td>203.0</td>\n",
              "      <td>89.0</td>\n",
              "    </tr>\n",
              "    <tr>\n",
              "      <th>Plant</th>\n",
              "      <td>0.0</td>\n",
              "      <td>0.0</td>\n",
              "      <td>141.0</td>\n",
              "      <td>75.0</td>\n",
              "      <td>213.0</td>\n",
              "      <td>93.0</td>\n",
              "      <td>168.0</td>\n",
              "      <td>0.0</td>\n",
              "    </tr>\n",
              "    <tr>\n",
              "      <th>Water</th>\n",
              "      <td>0.0</td>\n",
              "      <td>0.0</td>\n",
              "      <td>148.0</td>\n",
              "      <td>103.0</td>\n",
              "      <td>203.0</td>\n",
              "      <td>113.0</td>\n",
              "      <td>158.0</td>\n",
              "      <td>0.0</td>\n",
              "    </tr>\n",
              "    <tr>\n",
              "      <th>Wind</th>\n",
              "      <td>0.0</td>\n",
              "      <td>0.0</td>\n",
              "      <td>99.0</td>\n",
              "      <td>75.0</td>\n",
              "      <td>144.0</td>\n",
              "      <td>92.0</td>\n",
              "      <td>124.0</td>\n",
              "      <td>0.0</td>\n",
              "    </tr>\n",
              "  </tbody>\n",
              "</table>\n",
              "</div>\n",
              "      <button class=\"colab-df-convert\" onclick=\"convertToInteractive('df-ac7d38c9-1b13-4ded-88e7-03c0df393fac')\"\n",
              "              title=\"Convert this dataframe to an interactive table.\"\n",
              "              style=\"display:none;\">\n",
              "        \n",
              "  <svg xmlns=\"http://www.w3.org/2000/svg\" height=\"24px\"viewBox=\"0 0 24 24\"\n",
              "       width=\"24px\">\n",
              "    <path d=\"M0 0h24v24H0V0z\" fill=\"none\"/>\n",
              "    <path d=\"M18.56 5.44l.94 2.06.94-2.06 2.06-.94-2.06-.94-.94-2.06-.94 2.06-2.06.94zm-11 1L8.5 8.5l.94-2.06 2.06-.94-2.06-.94L8.5 2.5l-.94 2.06-2.06.94zm10 10l.94 2.06.94-2.06 2.06-.94-2.06-.94-.94-2.06-.94 2.06-2.06.94z\"/><path d=\"M17.41 7.96l-1.37-1.37c-.4-.4-.92-.59-1.43-.59-.52 0-1.04.2-1.43.59L10.3 9.45l-7.72 7.72c-.78.78-.78 2.05 0 2.83L4 21.41c.39.39.9.59 1.41.59.51 0 1.02-.2 1.41-.59l7.78-7.78 2.81-2.81c.8-.78.8-2.07 0-2.86zM5.41 20L4 18.59l7.72-7.72 1.47 1.35L5.41 20z\"/>\n",
              "  </svg>\n",
              "      </button>\n",
              "      \n",
              "  <style>\n",
              "    .colab-df-container {\n",
              "      display:flex;\n",
              "      flex-wrap:wrap;\n",
              "      gap: 12px;\n",
              "    }\n",
              "\n",
              "    .colab-df-convert {\n",
              "      background-color: #E8F0FE;\n",
              "      border: none;\n",
              "      border-radius: 50%;\n",
              "      cursor: pointer;\n",
              "      display: none;\n",
              "      fill: #1967D2;\n",
              "      height: 32px;\n",
              "      padding: 0 0 0 0;\n",
              "      width: 32px;\n",
              "    }\n",
              "\n",
              "    .colab-df-convert:hover {\n",
              "      background-color: #E2EBFA;\n",
              "      box-shadow: 0px 1px 2px rgba(60, 64, 67, 0.3), 0px 1px 3px 1px rgba(60, 64, 67, 0.15);\n",
              "      fill: #174EA6;\n",
              "    }\n",
              "\n",
              "    [theme=dark] .colab-df-convert {\n",
              "      background-color: #3B4455;\n",
              "      fill: #D2E3FC;\n",
              "    }\n",
              "\n",
              "    [theme=dark] .colab-df-convert:hover {\n",
              "      background-color: #434B5C;\n",
              "      box-shadow: 0px 1px 3px 1px rgba(0, 0, 0, 0.15);\n",
              "      filter: drop-shadow(0px 1px 2px rgba(0, 0, 0, 0.3));\n",
              "      fill: #FFFFFF;\n",
              "    }\n",
              "  </style>\n",
              "\n",
              "      <script>\n",
              "        const buttonEl =\n",
              "          document.querySelector('#df-ac7d38c9-1b13-4ded-88e7-03c0df393fac button.colab-df-convert');\n",
              "        buttonEl.style.display =\n",
              "          google.colab.kernel.accessAllowed ? 'block' : 'none';\n",
              "\n",
              "        async function convertToInteractive(key) {\n",
              "          const element = document.querySelector('#df-ac7d38c9-1b13-4ded-88e7-03c0df393fac');\n",
              "          const dataTable =\n",
              "            await google.colab.kernel.invokeFunction('convertToInteractive',\n",
              "                                                     [key], {});\n",
              "          if (!dataTable) return;\n",
              "\n",
              "          const docLinkHtml = 'Like what you see? Visit the ' +\n",
              "            '<a target=\"_blank\" href=https://colab.research.google.com/notebooks/data_table.ipynb>data table notebook</a>'\n",
              "            + ' to learn more about interactive tables.';\n",
              "          element.innerHTML = '';\n",
              "          dataTable['output_type'] = 'display_data';\n",
              "          await google.colab.output.renderOutput(dataTable, element);\n",
              "          const docLink = document.createElement('div');\n",
              "          docLink.innerHTML = docLinkHtml;\n",
              "          element.appendChild(docLink);\n",
              "        }\n",
              "      </script>\n",
              "    </div>\n",
              "  </div>\n",
              "  "
            ]
          },
          "metadata": {},
          "execution_count": 21
        }
      ]
    },
    {
      "cell_type": "markdown",
      "source": [
        "# MACHINE LEARNING"
      ],
      "metadata": {
        "id": "biumXqv5lqFY"
      }
    },
    {
      "cell_type": "markdown",
      "source": [
        "**Data:**\n",
        "+ Label = \"Lv50 Int\"\n",
        "\n",
        "**ML algorithms:**\n",
        "+ Linear Regression\n",
        "+ Support Vector Regression\n",
        "+ Random Forest\n",
        "\n",
        "**Process:**\n",
        "+ Feature Selection\n",
        "+ Hyperparameters Optimization\n",
        "+ Ensamble"
      ],
      "metadata": {
        "id": "d9gqcTNil1Yy"
      }
    },
    {
      "cell_type": "markdown",
      "source": [
        "##### Drop and OneHotEncoding"
      ],
      "metadata": {
        "id": "nR0tjzzVnGTg"
      }
    },
    {
      "cell_type": "code",
      "source": [
        "df.drop([\"Number\", \"Digimon\"], axis=1, inplace=True)  \n",
        "# All Number and Digimon values is unique like a ID value therefor I will drop this columns because they are not valuable data."
      ],
      "metadata": {
        "id": "StCoNi_UjuNu"
      },
      "execution_count": 5,
      "outputs": []
    },
    {
      "cell_type": "code",
      "source": [
        "df = pd.get_dummies(df, columns=[\"Stage\", \"Type\", \"Attribute\"]) # one hot encoding"
      ],
      "metadata": {
        "id": "HP4sKQFInDha"
      },
      "execution_count": 6,
      "outputs": []
    },
    {
      "cell_type": "code",
      "source": [
        "X = df.drop(\"Lv50 Int\", axis=1)\n",
        "y = df[\"Lv50 Int\"]"
      ],
      "metadata": {
        "id": "BDjwnKxynndf"
      },
      "execution_count": 7,
      "outputs": []
    },
    {
      "cell_type": "code",
      "source": [
        "X_train, X_test, y_train, y_test = train_test_split(X, y, test_size=0.33, random_state =42)"
      ],
      "metadata": {
        "id": "4vXKbRCPy13l"
      },
      "execution_count": 8,
      "outputs": []
    },
    {
      "cell_type": "markdown",
      "source": [
        "## ML Algorithms Without Feature Selection"
      ],
      "metadata": {
        "id": "363k5msszOk_"
      }
    },
    {
      "cell_type": "markdown",
      "source": [
        "### Linear Regression"
      ],
      "metadata": {
        "id": "Owj0tkJe2Wnl"
      }
    },
    {
      "cell_type": "code",
      "source": [
        "lr_wFS = LinearRegression()  # linear regression without feature selection\n",
        "lr_wFS.fit(X_train, y_train)\n",
        "lr_wFS_pred = lr_wFS.predict(X_test)"
      ],
      "metadata": {
        "id": "Q9VqSpkqzOPU"
      },
      "execution_count": 9,
      "outputs": []
    },
    {
      "cell_type": "code",
      "source": [
        "# Metrics\n",
        "\n",
        "print(\"-->Linear Regression Without Feature Selection \\n\")\n",
        "print('MAE -  Mean Absolute Error :', metrics.mean_absolute_error(y_test, lr_wFS_pred))\n",
        "print('R2 -   R2 Score            : ', metrics.r2_score(y_test, lr_wFS_pred))\n",
        "print('MSE -  Mean Squared Error  :', metrics.mean_squared_error(y_test, lr_wFS_pred))\n",
        "print('RSME - Root Mean Squared Error :', np.sqrt(metrics.mean_squared_error(y_test, lr_wFS_pred)))\n",
        "mape = np.mean(np.abs((y_test - lr_wFS_pred) / np.abs(y_test)))\n",
        "print('MAPE - Mean Absolute Percentage Error :', round(mape * 100, 2))"
      ],
      "metadata": {
        "colab": {
          "base_uri": "https://localhost:8080/"
        },
        "id": "Qnor96en0kZo",
        "outputId": "ab6535c9-793a-47da-f262-3de3fbc6cfee"
      },
      "execution_count": 10,
      "outputs": [
        {
          "output_type": "stream",
          "name": "stdout",
          "text": [
            "-->Linear Regression Without Feature Selection \n",
            "\n",
            "MAE -  Mean Absolute Error : 6.703126932849215\n",
            "R2 -   R2 Score            :  0.9579246841706801\n",
            "MSE -  Mean Squared Error  : 72.05955765819078\n",
            "RSME - Root Mean Squared Error : 8.488790117454359\n",
            "MAPE - Mean Absolute Percentage Error : 6.06\n"
          ]
        }
      ]
    },
    {
      "cell_type": "markdown",
      "source": [
        "### Random Forest"
      ],
      "metadata": {
        "id": "kmKPYiG22ZFs"
      }
    },
    {
      "cell_type": "markdown",
      "source": [
        "**Hyper parameter optimization with Grid Search**"
      ],
      "metadata": {
        "id": "x4gZIXrL2qu4"
      }
    },
    {
      "cell_type": "code",
      "source": [
        "rf_wFS = RandomForestRegressor(random_state=42)\n",
        "\n",
        "parameters_rf_wFS = {\n",
        "    \"n_estimators\" : [100,200,300,500,800],\n",
        "    \"criterion\" : ['squared_error', 'absolute_error', 'poisson'],\n",
        "    \"max_features\": ['sqrt', 'log2'],\n",
        "    'max_depth' : [4,5,6,7,8]\n",
        "    # \"min_samples_split\" : [2,3,4,5],\n",
        "    # \"min_samples_leaf\" : [1,2,3,4]\n",
        "}\n",
        "\n",
        "grid_rf_wFS = GridSearchCV(estimator=rf_wFS, param_grid=parameters_rf_wFS, cv= 5)\n",
        "grid_rf_wFS.fit(X_train, y_train)"
      ],
      "metadata": {
        "colab": {
          "base_uri": "https://localhost:8080/"
        },
        "id": "GWpb8kYW29C4",
        "outputId": "d9c4a40e-079b-4e3f-b35b-2f16994a4405"
      },
      "execution_count": 11,
      "outputs": [
        {
          "output_type": "execute_result",
          "data": {
            "text/plain": [
              "GridSearchCV(cv=5, estimator=RandomForestRegressor(random_state=42),\n",
              "             param_grid={'criterion': ['squared_error', 'absolute_error',\n",
              "                                       'poisson'],\n",
              "                         'max_depth': [4, 5, 6, 7, 8],\n",
              "                         'max_features': ['sqrt', 'log2'],\n",
              "                         'n_estimators': [100, 200, 300, 500, 800]})"
            ]
          },
          "metadata": {},
          "execution_count": 11
        }
      ]
    },
    {
      "cell_type": "code",
      "source": [
        "grid_rf_wFS.best_params_"
      ],
      "metadata": {
        "colab": {
          "base_uri": "https://localhost:8080/"
        },
        "id": "o_t_hGmq5Ytg",
        "outputId": "514517c9-f537-4639-bab6-de225603de69"
      },
      "execution_count": 12,
      "outputs": [
        {
          "output_type": "execute_result",
          "data": {
            "text/plain": [
              "{'criterion': 'absolute_error',\n",
              " 'max_depth': 8,\n",
              " 'max_features': 'sqrt',\n",
              " 'n_estimators': 100}"
            ]
          },
          "metadata": {},
          "execution_count": 12
        }
      ]
    },
    {
      "cell_type": "code",
      "source": [
        "grid_rf_wFS.best_estimator_"
      ],
      "metadata": {
        "colab": {
          "base_uri": "https://localhost:8080/"
        },
        "id": "UAM2uSpR7Y_2",
        "outputId": "a1ac840f-6c3f-4692-a506-73b49510fd8e"
      },
      "execution_count": 13,
      "outputs": [
        {
          "output_type": "execute_result",
          "data": {
            "text/plain": [
              "RandomForestRegressor(criterion='absolute_error', max_depth=8,\n",
              "                      max_features='sqrt', random_state=42)"
            ]
          },
          "metadata": {},
          "execution_count": 13
        }
      ]
    },
    {
      "cell_type": "code",
      "source": [
        "rf_wFS = RandomForestRegressor(criterion= 'absolute_error', max_depth= 8, max_features ='sqrt', n_estimators= 100)\n",
        "rf_wFS.fit(X_train, y_train)\n",
        "rf_wFS_pred = rf_wFS.predict(X_test)"
      ],
      "metadata": {
        "id": "rDhyR1zO73pv"
      },
      "execution_count": 14,
      "outputs": []
    },
    {
      "cell_type": "code",
      "source": [
        "print(\"-->Random Forest Regressor Without Feature Selection \\n\")\n",
        "print('MAE -  Mean Absolute Error :', metrics.mean_absolute_error(y_test, rf_wFS_pred))\n",
        "print('R2 -   R2 Score            : ', metrics.r2_score(y_test, rf_wFS_pred))\n",
        "print('MSE -  Mean Squared Error  :', metrics.mean_squared_error(y_test, rf_wFS_pred))\n",
        "print('RSME - Root Mean Squared Error :', np.sqrt(metrics.mean_squared_error(y_test, rf_wFS_pred)))\n",
        "mape = np.mean(np.abs((y_test - rf_wFS_pred) / np.abs(y_test)))\n",
        "print('MAPE - Mean Absolute Percentage Error :', round(mape * 100, 2))"
      ],
      "metadata": {
        "colab": {
          "base_uri": "https://localhost:8080/"
        },
        "id": "0UBVNxi88Oxx",
        "outputId": "469f54d2-ff27-4db2-8858-f88f7e9ce9c5"
      },
      "execution_count": 15,
      "outputs": [
        {
          "output_type": "stream",
          "name": "stdout",
          "text": [
            "-->Random Forest Regressor Without Feature Selection \n",
            "\n",
            "MAE -  Mean Absolute Error : 15.492469879518072\n",
            "R2 -   R2 Score            :  0.7949824631286676\n",
            "MSE -  Mean Squared Error  : 351.1197177710843\n",
            "RSME - Root Mean Squared Error : 18.738188753747902\n",
            "MAPE - Mean Absolute Percentage Error : 14.46\n"
          ]
        }
      ]
    },
    {
      "cell_type": "markdown",
      "source": [
        "### Support Vector Machine"
      ],
      "metadata": {
        "id": "nlqsVp-R8d_P"
      }
    },
    {
      "cell_type": "code",
      "source": [
        "# Preprocessing ust for SVR\n",
        "df_svr = df.copy()\n",
        "\n",
        "X_svr = df_svr.drop([\"Lv50 Int\"], axis=1)\n",
        "y_svr = df_svr[\"Lv50 Int\"]\n",
        "\n",
        "X_svr = X_svr.values\n",
        "y_svr = y_svr.values\n",
        "\n",
        "# Standart Scaler\n",
        "sc_X_wFS = StandardScaler()          # Standard Scaler must use for SVR \n",
        "X_svr = sc_X_wFS.fit_transform(X_svr)\n",
        "\n",
        "y_svr = y_svr.reshape(-1,1)\n",
        "sc_y_wFS = StandardScaler()\n",
        "y_svr = sc_y_wFS.fit_transform(y_svr)\n",
        "\n",
        "# Train- Test Split\n",
        "X_train_s, X_test_s, y_train_s, y_test_s = train_test_split(X_svr, y_svr, test_size=0.33, random_state =42)"
      ],
      "metadata": {
        "id": "ox_JXDvk8drf"
      },
      "execution_count": 16,
      "outputs": []
    },
    {
      "cell_type": "markdown",
      "source": [
        "**Hyper parameter optimization with Grid Search**"
      ],
      "metadata": {
        "id": "PDU-BzIFAOzQ"
      }
    },
    {
      "cell_type": "code",
      "source": [
        "svr_wFS = SVR()  # svr without feature selection\n",
        "\n",
        "parameters_svr_wFS = {\n",
        "    'kernel' :  ['linear', 'poly', 'rbf', 'sigmoid'],\n",
        "    'C'      :  [1, 1.5, 5, 10],\n",
        "    'gamma'  :  ['scale', 'auto'],\n",
        "    'epsilon': [0.1, 0.2, 0.5, 0.7]\n",
        "}\n",
        "\n",
        "grid_svr_wFS = GridSearchCV(svr_wFS, parameters_svr_wFS, cv=5) \n",
        "\n",
        "grid_svr_wFS.fit(X_train_s, y_train_s)"
      ],
      "metadata": {
        "id": "NrHJbyPSAMvF"
      },
      "execution_count": null,
      "outputs": []
    },
    {
      "cell_type": "code",
      "source": [
        "grid_svr_wFS.best_params_"
      ],
      "metadata": {
        "colab": {
          "base_uri": "https://localhost:8080/"
        },
        "id": "0wwjDc_aCXfb",
        "outputId": "8d40f0c2-ebd4-433d-c810-1057e88c1fef"
      },
      "execution_count": 18,
      "outputs": [
        {
          "output_type": "execute_result",
          "data": {
            "text/plain": [
              "{'C': 5, 'epsilon': 0.1, 'gamma': 'scale', 'kernel': 'linear'}"
            ]
          },
          "metadata": {},
          "execution_count": 18
        }
      ]
    },
    {
      "cell_type": "code",
      "source": [
        "svr_wFS =SVR(C= 5, epsilon=0.1, gamma = \"scale\", kernel=\"linear\")\n",
        "svr_wFS.fit(X_train_s, y_train_s)\n",
        "svr_wFS_pred = svr_wFS.predict(X_test_s)"
      ],
      "metadata": {
        "colab": {
          "base_uri": "https://localhost:8080/"
        },
        "id": "sbV9lOKiAOJq",
        "outputId": "b539bb6d-74ff-4501-f72e-2383701aca4f"
      },
      "execution_count": 19,
      "outputs": [
        {
          "output_type": "stream",
          "name": "stderr",
          "text": [
            "A column-vector y was passed when a 1d array was expected. Please change the shape of y to (n_samples, ), for example using ravel().\n"
          ]
        }
      ]
    },
    {
      "cell_type": "code",
      "source": [
        "print(\"-->Support Vector Regressor Without Feature Selection \\n\")\n",
        "print('MAE -  Mean Absolute Error :', metrics.mean_absolute_error(y_test_s, svr_wFS_pred))\n",
        "print('R2 -   R2 Score            : ', metrics.r2_score(y_test_s, svr_wFS_pred))\n",
        "print('MSE -  Mean Squared Error  :', metrics.mean_squared_error(y_test_s, svr_wFS_pred))\n",
        "print('RSME - Root Mean Squared Error :', np.sqrt(metrics.mean_squared_error(y_test_s, svr_wFS_pred)))\n",
        "mape = np.mean(np.abs((y_test_s - svr_wFS_pred) / np.abs(y_test_s)))\n",
        "print('MAPE - Mean Absolute Percentage Error :', round(mape * 100, 2))"
      ],
      "metadata": {
        "colab": {
          "base_uri": "https://localhost:8080/"
        },
        "id": "hoQr2aIp_h0u",
        "outputId": "7d6dadf8-7271-4ec2-92f3-60bccb3efc47"
      },
      "execution_count": 20,
      "outputs": [
        {
          "output_type": "stream",
          "name": "stdout",
          "text": [
            "-->Support Vector Regressor Without Feature Selection \n",
            "\n",
            "MAE -  Mean Absolute Error : 0.16701461267892193\n",
            "R2 -   R2 Score            :  0.9561455029540569\n",
            "MSE -  Mean Squared Error  : 0.0436530478787614\n",
            "RSME - Root Mean Squared Error : 0.20893311819518082\n",
            "MAPE - Mean Absolute Percentage Error : 377.11\n"
          ]
        }
      ]
    },
    {
      "cell_type": "markdown",
      "source": [
        "### **Sonuç:** Without Feature Selection\n",
        "\n",
        "**Linear Regression:**\n",
        "+ MAE -  Mean Absolute Error : 6.703126932849215\n",
        "+ R2 -   R2 Score            :  0.9579246841706801\n",
        "\n",
        "**Random Forest Regression:**\n",
        "+ MAE -  Mean Absolute Error : 15.492469879518072\n",
        "+ R2 -   R2 Score            :  0.7949824631286676\n",
        "\n",
        "\n",
        "**Support Vector Regression:**\n",
        "+ MAE -  Mean Absolute Error : 0.16701461267892193\n",
        "+ R2 -   R2 Score            :  0.9561455029540569"
      ],
      "metadata": {
        "id": "AqlN64i6Ddi6"
      }
    },
    {
      "cell_type": "markdown",
      "source": [
        "## With Feature Selection ML Algorithms"
      ],
      "metadata": {
        "id": "yqvq2QD2_0S4"
      }
    },
    {
      "cell_type": "markdown",
      "source": [
        "### Random Forest Regressor FS1\n",
        "\n",
        "\n"
      ],
      "metadata": {
        "id": "5215MA8TW0ZF"
      }
    },
    {
      "cell_type": "code",
      "source": [
        "rf_fs1 = RandomForestRegressor(criterion= 'absolute_error', max_depth= 8, max_features ='sqrt', n_estimators= 100)\n",
        "rf_fs1.fit(X_train, y_train)\n",
        "rf_fs1_pred = rf_fs1.predict(X_test)"
      ],
      "metadata": {
        "id": "NgYlmSeyW3Tc"
      },
      "execution_count": 21,
      "outputs": []
    },
    {
      "cell_type": "markdown",
      "source": [
        "#### Feature Importance \n",
        "**Feature Selection**"
      ],
      "metadata": {
        "id": "nJIBzmyOYWda"
      }
    },
    {
      "cell_type": "code",
      "source": [
        "# visulation method 1\n",
        "sorted_index = rf_fs1.feature_importances_.argsort()\n",
        "\n",
        "figure(figsize=(11,9))\n",
        "plt.barh(X_train.columns[sorted_index], rf_fs1.feature_importances_[sorted_index])\n",
        "plt.title(\"Random Forest Feature Selection with Feature Importance\")\n",
        "plt.show()"
      ],
      "metadata": {
        "colab": {
          "base_uri": "https://localhost:8080/",
          "height": 553
        },
        "id": "cCs59EgDYV3k",
        "outputId": "07aafd7d-fa5a-4a07-b1aa-5bcca2213566"
      },
      "execution_count": 22,
      "outputs": [
        {
          "output_type": "display_data",
          "data": {
            "text/plain": [
              "<Figure size 792x648 with 1 Axes>"
            ],
            "image/png": "[encoded data removed]"
          },
          "metadata": {
            "needs_background": "light"
          }
        }
      ]
    },
    {
      "cell_type": "code",
      "source": [
        "# visulation method 2 \n",
        "\n",
        "explainer = shap.TreeExplainer(rf_fs1)\n",
        "shap_values =explainer.shap_values(X_train)\n",
        "shap.summary_plot(shap_values, X_train)"
      ],
      "metadata": {
        "colab": {
          "base_uri": "https://localhost:8080/",
          "height": 693
        },
        "id": "8i39MDlRYh1Z",
        "outputId": "e6064261-9a6d-42a9-b70f-36a3d3ea50b6"
      },
      "execution_count": 23,
      "outputs": [
        {
          "output_type": "display_data",
          "data": {
            "text/plain": [
              "<Figure size 576x684 with 2 Axes>"
            ],
            "image/png": "[encoded data removed]"
          },
          "metadata": {
            "needs_background": "light"
          }
        }
      ]
    },
    {
      "cell_type": "markdown",
      "source": [
        "+ Most Important Columns - Feature Selaction Method 1"
      ],
      "metadata": {
        "id": "hntRMKvqczQi"
      }
    },
    {
      "cell_type": "code",
      "source": [
        "X_train_fs1 = X_train[['Memory', 'Lv 50 HP', 'Lv50 SP', 'Lv50 Atk', 'Lv50 Def','Lv50 Spd']]\n",
        "X_test_fs1  = X_test[['Memory', 'Lv 50 HP', 'Lv50 SP', 'Lv50 Atk', 'Lv50 Def','Lv50 Spd']]"
      ],
      "metadata": {
        "id": "AvcgSE5dbjcq"
      },
      "execution_count": 24,
      "outputs": []
    },
    {
      "cell_type": "markdown",
      "source": [
        "**Grid Search**"
      ],
      "metadata": {
        "id": "n9r2pwG9cvk0"
      }
    },
    {
      "cell_type": "code",
      "source": [
        "rf_fs1 = RandomForestRegressor(random_state=42)\n",
        "\n",
        "parameters_rf_fs1 = {\n",
        "    \"n_estimators\" : [100,200,300,500,800],\n",
        "    \"criterion\" : ['squared_error', 'absolute_error', 'poisson'],\n",
        "    \"max_features\": ['sqrt', 'log2'],\n",
        "    'max_depth' : [4,5,6,7,8]\n",
        "    # \"min_samples_split\" : [2,3,4,5],\n",
        "    # \"min_samples_leaf\" : [1,2,3,4]\n",
        "}\n",
        "\n",
        "grid_rf_fs1 = GridSearchCV(estimator=rf_fs1, param_grid=parameters_rf_fs1, cv= 5)\n",
        "grid_rf_fs1.fit(X_train_fs1, y_train) "
      ],
      "metadata": {
        "colab": {
          "base_uri": "https://localhost:8080/"
        },
        "id": "y1dDg33ccm04",
        "outputId": "7439f150-01e4-488e-ba1b-9eeab20b2b18"
      },
      "execution_count": 25,
      "outputs": [
        {
          "output_type": "execute_result",
          "data": {
            "text/plain": [
              "GridSearchCV(cv=5, estimator=RandomForestRegressor(random_state=42),\n",
              "             param_grid={'criterion': ['squared_error', 'absolute_error',\n",
              "                                       'poisson'],\n",
              "                         'max_depth': [4, 5, 6, 7, 8],\n",
              "                         'max_features': ['sqrt', 'log2'],\n",
              "                         'n_estimators': [100, 200, 300, 500, 800]})"
            ]
          },
          "metadata": {},
          "execution_count": 25
        }
      ]
    },
    {
      "cell_type": "code",
      "source": [
        "grid_rf_fs1.best_params_"
      ],
      "metadata": {
        "colab": {
          "base_uri": "https://localhost:8080/"
        },
        "id": "n0JfKUNEewnk",
        "outputId": "ad0c62f8-4d33-4c69-9198-990bb7178164"
      },
      "execution_count": 26,
      "outputs": [
        {
          "output_type": "execute_result",
          "data": {
            "text/plain": [
              "{'criterion': 'squared_error',\n",
              " 'max_depth': 8,\n",
              " 'max_features': 'sqrt',\n",
              " 'n_estimators': 800}"
            ]
          },
          "metadata": {},
          "execution_count": 26
        }
      ]
    },
    {
      "cell_type": "code",
      "source": [
        "rf_fs1 = RandomForestRegressor(n_estimators=800, max_features=\"sqrt\", max_depth=8, criterion=\"squared_error\")\n",
        "rf_fs1.fit(X_train_fs1, y_train)\n",
        "rf_fs1_pred = rf_fs1.predict(X_test_fs1)"
      ],
      "metadata": {
        "id": "WkJSBGKDewhl"
      },
      "execution_count": 27,
      "outputs": []
    },
    {
      "cell_type": "code",
      "source": [
        "print(\"-->Random Forest Regressor Feature Selection Method 1 \\n\")\n",
        "print('MAE -  Mean Absolute Error :', metrics.mean_absolute_error(y_test, rf_fs1_pred))\n",
        "print('R2 -   R2 Score            : ', metrics.r2_score(y_test, rf_fs1_pred))\n",
        "print('MSE -  Mean Squared Error  :', metrics.mean_squared_error(y_test, rf_fs1_pred))\n",
        "print('RSME - Root Mean Squared Error :', np.sqrt(metrics.mean_squared_error(y_test, rf_fs1_pred)))\n",
        "mape = np.mean(np.abs((y_test - rf_fs1_pred) / np.abs(y_test)))\n",
        "print('MAPE - Mean Absolute Percentage Error :', round(mape * 100, 2))"
      ],
      "metadata": {
        "colab": {
          "base_uri": "https://localhost:8080/"
        },
        "id": "0CRE6RHmewZd",
        "outputId": "73ff164c-0953-4b75-e6e5-de6ba03092f3"
      },
      "execution_count": 28,
      "outputs": [
        {
          "output_type": "stream",
          "name": "stdout",
          "text": [
            "-->Random Forest Regressor Feature Selection Method 1 \n",
            "\n",
            "MAE -  Mean Absolute Error : 12.218920816191334\n",
            "R2 -   R2 Score            :  0.8570178668688416\n",
            "MSE -  Mean Squared Error  : 244.87586280400737\n",
            "RSME - Root Mean Squared Error : 15.648509922801193\n",
            "MAPE - Mean Absolute Percentage Error : 11.6\n"
          ]
        }
      ]
    },
    {
      "cell_type": "markdown",
      "source": [
        "### Linear Regression FS1"
      ],
      "metadata": {
        "id": "hcG47t72VcJ-"
      }
    },
    {
      "cell_type": "markdown",
      "source": [
        "+ There is no Feature Selection in the Linear Regression model, so I found important features with the Random Forest Regresor model, then applied it to the Linear Regression Model and SVR."
      ],
      "metadata": {
        "id": "OT_CHLhnW_si"
      }
    },
    {
      "cell_type": "code",
      "source": [
        "lr_fs1 = LinearRegression()  # linear regression feature selection 1\n",
        "lr_fs1.fit(X_train_fs1, y_train)\n",
        "lr_fs1_pred = lr_fs1.predict(X_test_fs1)"
      ],
      "metadata": {
        "id": "72kbuNBn_6ki"
      },
      "execution_count": 29,
      "outputs": []
    },
    {
      "cell_type": "code",
      "source": [
        "# metrics Feature Selection 1\n",
        "\n",
        "print(\"-->Linear Regression Feature Selection Method 1 \\n\")\n",
        "print('MAE -  Mean Absolute Error :', metrics.mean_absolute_error(y_test, lr_fs1_pred))\n",
        "print('R2 -   R2 Score            : ', metrics.r2_score(y_test, lr_fs1_pred))\n",
        "print('MSE -  Mean Squared Error  :', metrics.mean_squared_error(y_test, lr_fs1_pred))\n",
        "print('RSME - Root Mean Squared Error :', np.sqrt(metrics.mean_squared_error(y_test, lr_fs1_pred)))\n",
        "mape = np.mean(np.abs((y_test - lr_fs1_pred) / np.abs(y_test)))\n",
        "print('MAPE - Mean Absolute Percentage Error :', round(mape * 100, 2))"
      ],
      "metadata": {
        "colab": {
          "base_uri": "https://localhost:8080/"
        },
        "id": "Hqduur6Xf_QQ",
        "outputId": "72fb7f05-c756-4cec-db20-0c25410ea4bf"
      },
      "execution_count": 30,
      "outputs": [
        {
          "output_type": "stream",
          "name": "stdout",
          "text": [
            "-->Linear Regression Feature Selection Method 1 \n",
            "\n",
            "MAE -  Mean Absolute Error : 11.61628852123095\n",
            "R2 -   R2 Score            :  0.8850722175717725\n",
            "MSE -  Mean Squared Error  : 196.8290671425897\n",
            "RSME - Root Mean Squared Error : 14.029578295251419\n",
            "MAPE - Mean Absolute Percentage Error : 11.19\n"
          ]
        }
      ]
    },
    {
      "cell_type": "markdown",
      "source": [
        "### Support Vector Regression FS1\n",
        "+ + There is no Feature Selection in the Linear Regression model, so I found important features with the Random Forest Regresor model, then applied it to the Linear Regression Model and SVR."
      ],
      "metadata": {
        "id": "1vZBzAp-grOL"
      }
    },
    {
      "cell_type": "code",
      "source": [
        "# Preprocessing ust for SVR\n",
        "df_fs1 = df.copy()\n",
        "\n",
        "# features and label\n",
        "Xfs1 = df_fs1.drop([\"Lv50 Int\"], axis=1)\n",
        "yfs1 = df_fs1[\"Lv50 Int\"]\n",
        "\n",
        "# feature selection 1 - most importance columns\n",
        "Xfs1 = Xfs1[['Memory', 'Lv 50 HP', 'Lv50 SP', 'Lv50 Atk', 'Lv50 Def','Lv50 Spd']]\n",
        "\n",
        "# convert to numpy array\n",
        "Xfs1 = Xfs1.values\n",
        "yfs1 = yfs1.values\n",
        "\n",
        "# Standart Scaler\n",
        "sc_X_wFS = StandardScaler()          # Standard Scaler must use for SVR \n",
        "Xfs1 = sc_X_wFS.fit_transform(Xfs1)\n",
        "\n",
        "yfs1 = yfs1.reshape(-1,1)\n",
        "sc_y_wFS = StandardScaler()\n",
        "yfs1 = sc_y_wFS.fit_transform(yfs1)\n",
        "\n",
        "# Train- Test Split\n",
        "X_train_sfs1, X_test_sfs1, y_train_s, y_test_s = train_test_split(Xfs1, yfs1, test_size=0.33, random_state =42)"
      ],
      "metadata": {
        "id": "eR_pExCPWmBt"
      },
      "execution_count": 31,
      "outputs": []
    },
    {
      "cell_type": "code",
      "source": [
        "svr_fs1 = SVR()  # svr without feature selection\n",
        "\n",
        "parameters_svr_fs1 = {\n",
        "    'kernel' :  ['linear', 'poly', 'rbf', 'sigmoid'],\n",
        "    'C'      :  [1, 1.5, 5, 10],\n",
        "    'gamma'  :  ['scale', 'auto'],\n",
        "    'epsilon': [0.1, 0.2, 0.5, 0.7]\n",
        "}\n",
        "\n",
        "grid_svr_fs1 = GridSearchCV(svr_fs1, parameters_svr_fs1, cv=5) \n",
        "\n",
        "grid_svr_fs1.fit(X_train_sfs1, y_train_s)"
      ],
      "metadata": {
        "id": "1UWc8oSNiBB6"
      },
      "execution_count": null,
      "outputs": []
    },
    {
      "cell_type": "code",
      "source": [
        "grid_svr_fs1.best_params_"
      ],
      "metadata": {
        "colab": {
          "base_uri": "https://localhost:8080/"
        },
        "id": "da7RJSeokPx7",
        "outputId": "af940366-fa18-42b4-8753-f7a400290c49"
      },
      "execution_count": 33,
      "outputs": [
        {
          "output_type": "execute_result",
          "data": {
            "text/plain": [
              "{'C': 10, 'epsilon': 0.1, 'gamma': 'scale', 'kernel': 'rbf'}"
            ]
          },
          "metadata": {},
          "execution_count": 33
        }
      ]
    },
    {
      "cell_type": "code",
      "source": [
        "svr_fs1 = SVR(C = 10, epsilon = 0.1, gamma =\"scale\", kernel=\"rbf\")\n",
        "svr_fs1.fit(X_train_sfs1, y_train_s)\n",
        "svr_fs1_pred = svr_fs1.predict(X_test_sfs1)"
      ],
      "metadata": {
        "colab": {
          "base_uri": "https://localhost:8080/"
        },
        "id": "oOt2XoZTkYmu",
        "outputId": "8a7d5238-93d4-4bf0-ddda-14dc302b60da"
      },
      "execution_count": 34,
      "outputs": [
        {
          "output_type": "stream",
          "name": "stderr",
          "text": [
            "A column-vector y was passed when a 1d array was expected. Please change the shape of y to (n_samples, ), for example using ravel().\n"
          ]
        }
      ]
    },
    {
      "cell_type": "code",
      "source": [
        "# metrics Feature Selection 1\n",
        "\n",
        "print(\"-->Support Vector Regressor Feature Selection Method 1 \\n\")\n",
        "print('MAE -  Mean Absolute Error :', metrics.mean_absolute_error(y_test_s, svr_fs1_pred ))\n",
        "print('R2 -   R2 Score            : ', metrics.r2_score(y_test_s, svr_fs1_pred ))\n",
        "print('MSE -  Mean Squared Error  :', metrics.mean_squared_error(y_test_s, svr_fs1_pred ))\n",
        "print('RSME - Root Mean Squared Error :', np.sqrt(metrics.mean_squared_error(y_test_s, svr_fs1_pred )))\n",
        "mape = np.mean(np.abs((y_test_s - svr_fs1_pred ) / np.abs(y_test_s)))\n",
        "print('MAPE - Mean Absolute Percentage Error :', round(mape * 100, 2))"
      ],
      "metadata": {
        "colab": {
          "base_uri": "https://localhost:8080/"
        },
        "id": "js8D6QsCk6si",
        "outputId": "53f76092-fd6c-4098-cc26-cb51650ece53"
      },
      "execution_count": 35,
      "outputs": [
        {
          "output_type": "stream",
          "name": "stdout",
          "text": [
            "-->Support Vector Regressor Feature Selection Method 1 \n",
            "\n",
            "MAE -  Mean Absolute Error : 0.19401923265477458\n",
            "R2 -   R2 Score            :  0.9403284441255666\n",
            "MSE -  Mean Squared Error  : 0.05939744977254944\n",
            "RSME - Root Mean Squared Error : 0.24371592022793553\n",
            "MAPE - Mean Absolute Percentage Error : 369.18\n"
          ]
        }
      ]
    },
    {
      "cell_type": "markdown",
      "source": [
        "## Result: FS1\n",
        "\n",
        "\n",
        "-->Random Forest Regressor Feature Selection Method 1 \n",
        "\n",
        "+ MAE -  Mean Absolute Error : 12.218920816191334\n",
        "+ R2 -   R2 Score            :  0.8570178668688416\n",
        "\n",
        "-->Linear Regressor Feature Selection Method 1 \n",
        "\n",
        "+ MAE -  Mean Absolute Error : 11.61628852123095\n",
        "+ R2 -   R2 Score            :  0.8850722175717725\n",
        "\n",
        "\n",
        "-->Support Vector Regressor Feature Selection Method 1 \n",
        "\n",
        "+ MAE -  Mean Absolute Error : 0.19401923265477458\n",
        "+ R2 -   R2 Score            :  0.9403284441255666"
      ],
      "metadata": {
        "id": "EdSY4JFlrTct"
      }
    },
    {
      "cell_type": "markdown",
      "source": [
        "## Feature Selection Method 2\n",
        "\n",
        "Filter Method"
      ],
      "metadata": {
        "id": "G37IFQvtlNq7"
      }
    },
    {
      "cell_type": "code",
      "source": [
        "figure(figsize=(10,10))\n",
        "\n",
        "impt_features2 = mutual_info_regression(X,y)\n",
        "sort_index = impt_features2.argsort()\n",
        "pd.Series(impt_features2[sort_index], X.columns[0: len(X.columns)]).plot(kind=\"barh\")"
      ],
      "metadata": {
        "colab": {
          "base_uri": "https://localhost:8080/",
          "height": 609
        },
        "id": "ur_ERJmKlL0l",
        "outputId": "a3fcc9cf-ef25-4773-e5b1-77fb28f0ad4d"
      },
      "execution_count": 37,
      "outputs": [
        {
          "output_type": "execute_result",
          "data": {
            "text/plain": [
              "<matplotlib.axes._subplots.AxesSubplot at 0x7f2480595a90>"
            ]
          },
          "metadata": {},
          "execution_count": 37
        },
        {
          "output_type": "display_data",
          "data": {
            "text/plain": [
              "<Figure size 720x720 with 1 Axes>"
            ],
            "image/png": "[encoded data removed]"
          },
          "metadata": {
            "needs_background": "light"
          }
        }
      ]
    },
    {
      "cell_type": "markdown",
      "source": [
        "'Attribute_Electric','Attribute_Fire', 'Attribute_Light', 'Attribute_Neutral','Attribute_Plant', 'Attribute_Water', 'Attribute_Wind'"
      ],
      "metadata": {
        "id": "d0oF44WJm8DY"
      }
    },
    {
      "cell_type": "code",
      "source": [
        "X_train_fs2 = X_train[['Attribute_Electric','Attribute_Fire', 'Attribute_Light', 'Attribute_Neutral','Attribute_Plant', 'Attribute_Water', 'Attribute_Wind']]\n",
        "X_test_fs2  = X_test[['Attribute_Electric','Attribute_Fire', 'Attribute_Light', 'Attribute_Neutral','Attribute_Plant', 'Attribute_Water', 'Attribute_Wind']]"
      ],
      "metadata": {
        "id": "YEhlqckJmQEd"
      },
      "execution_count": 38,
      "outputs": []
    },
    {
      "cell_type": "markdown",
      "source": [
        "### Linear Regression FS2"
      ],
      "metadata": {
        "id": "y9p93OJcneVk"
      }
    },
    {
      "cell_type": "code",
      "source": [
        "lr_fs2 = LinearRegression()\n",
        "lr_fs2.fit(X_train_fs2, y_train)\n",
        "lr_fs2_pred = lr_fs2.predict(X_test_fs2)"
      ],
      "metadata": {
        "id": "woo-o8FinBBQ"
      },
      "execution_count": 39,
      "outputs": []
    },
    {
      "cell_type": "code",
      "source": [
        "print(\"-->Linear Regression Feature Selection Method 2 \\n\")\n",
        "print('MAE -  Mean Absolute Error :', metrics.mean_absolute_error(y_test, lr_fs2_pred ))\n",
        "print('R2 -   R2 Score            : ', metrics.r2_score(y_test, lr_fs2_pred ))\n",
        "print('MSE -  Mean Squared Error  :', metrics.mean_squared_error(y_test, lr_fs2_pred ))\n",
        "print('RSME - Root Mean Squared Error :', np.sqrt(metrics.mean_squared_error(y_test, lr_fs2_pred )))\n",
        "mape = np.mean(np.abs((y_test - lr_fs2_pred ) / np.abs(y_test)))\n",
        "print('MAPE - Mean Absolute Percentage Error :', round(mape * 100, 2))"
      ],
      "metadata": {
        "colab": {
          "base_uri": "https://localhost:8080/"
        },
        "id": "O2BtwOTFnvee",
        "outputId": "6e97e80c-fb84-4162-fd25-b728a01e2af7"
      },
      "execution_count": 41,
      "outputs": [
        {
          "output_type": "stream",
          "name": "stdout",
          "text": [
            "-->Linear Regression Feature Selection Method 2 \n",
            "\n",
            "MAE -  Mean Absolute Error : 29.455752776697235\n",
            "R2 -   R2 Score            :  0.18865861282836582\n",
            "MSE -  Mean Squared Error  : 1389.5297115899486\n",
            "RSME - Root Mean Squared Error : 37.276396172242144\n",
            "MAPE - Mean Absolute Percentage Error : 27.95\n"
          ]
        }
      ]
    },
    {
      "cell_type": "markdown",
      "source": [
        "### Random Forest Regressor FS2"
      ],
      "metadata": {
        "id": "Fi5-hUzFoFUL"
      }
    },
    {
      "cell_type": "code",
      "source": [
        "rf_fs2 = RandomForestRegressor(random_state=42)\n",
        "\n",
        "parameters_rf_fs2 = {\n",
        "    \"n_estimators\" : [100,200,300,500,800],\n",
        "    \"criterion\" : ['squared_error', 'absolute_error', 'poisson'],\n",
        "    \"max_features\": ['sqrt', 'log2'],\n",
        "    'max_depth' : [4,5,6,7,8]\n",
        "}\n",
        "\n",
        "grid_rf_fs2 = GridSearchCV(estimator=rf_fs2, param_grid=parameters_rf_fs2, cv= 5)\n",
        "grid_rf_fs2.fit(X_train_fs2, y_train) "
      ],
      "metadata": {
        "colab": {
          "base_uri": "https://localhost:8080/"
        },
        "id": "dSfWRvxBn9Nt",
        "outputId": "90ae28ba-f1d0-4a06-f9a4-ba577685ae4c"
      },
      "execution_count": 42,
      "outputs": [
        {
          "output_type": "execute_result",
          "data": {
            "text/plain": [
              "GridSearchCV(cv=5, estimator=RandomForestRegressor(random_state=42),\n",
              "             param_grid={'criterion': ['squared_error', 'absolute_error',\n",
              "                                       'poisson'],\n",
              "                         'max_depth': [4, 5, 6, 7, 8],\n",
              "                         'max_features': ['sqrt', 'log2'],\n",
              "                         'n_estimators': [100, 200, 300, 500, 800]})"
            ]
          },
          "metadata": {},
          "execution_count": 42
        }
      ]
    },
    {
      "cell_type": "code",
      "source": [
        "grid_rf_fs2.best_params_"
      ],
      "metadata": {
        "colab": {
          "base_uri": "https://localhost:8080/"
        },
        "id": "KKnLqSeSoesb",
        "outputId": "9c346f57-64ab-4b78-c39c-8dd9ea4f69e3"
      },
      "execution_count": 43,
      "outputs": [
        {
          "output_type": "execute_result",
          "data": {
            "text/plain": [
              "{'criterion': 'squared_error',\n",
              " 'max_depth': 4,\n",
              " 'max_features': 'sqrt',\n",
              " 'n_estimators': 800}"
            ]
          },
          "metadata": {},
          "execution_count": 43
        }
      ]
    },
    {
      "cell_type": "code",
      "source": [
        "rf_fs2 = RandomForestRegressor(n_estimators=800, max_features=\"sqrt\", max_depth=4, criterion=\"squared_error\")\n",
        "rf_fs2.fit(X_train_fs2, y_train)\n",
        "rf_fs2_pred = rf_fs2.predict(X_test_fs2)"
      ],
      "metadata": {
        "id": "sl2CqwhOojWe"
      },
      "execution_count": 44,
      "outputs": []
    },
    {
      "cell_type": "code",
      "source": [
        "print(\"-->Random Forest Feature Selection Method 2 \\n\")\n",
        "print('MAE -  Mean Absolute Error :', metrics.mean_absolute_error(y_test, rf_fs2_pred ))\n",
        "print('R2 -   R2 Score            : ', metrics.r2_score(y_test, rf_fs2_pred ))\n",
        "print('MSE -  Mean Squared Error  :', metrics.mean_squared_error(y_test, rf_fs2_pred ))\n",
        "print('RSME - Root Mean Squared Error :', np.sqrt(metrics.mean_squared_error(y_test,rf_fs2_pred )))\n",
        "mape = np.mean(np.abs((y_test - rf_fs2_pred ) / np.abs(y_test)))\n",
        "print('MAPE - Mean Absolute Percentage Error :', round(mape * 100, 2))"
      ],
      "metadata": {
        "colab": {
          "base_uri": "https://localhost:8080/"
        },
        "id": "0qMFYt1eorJL",
        "outputId": "69475cf7-596f-4f6b-bf04-a60f1fc5a108"
      },
      "execution_count": 45,
      "outputs": [
        {
          "output_type": "stream",
          "name": "stdout",
          "text": [
            "-->Random Forest Feature Selection Method 2 \n",
            "\n",
            "MAE -  Mean Absolute Error : 29.954422607413985\n",
            "R2 -   R2 Score            :  0.17147684771510963\n",
            "MSE -  Mean Squared Error  : 1418.955762694844\n",
            "RSME - Root Mean Squared Error : 37.66902922421607\n",
            "MAPE - Mean Absolute Percentage Error : 28.38\n"
          ]
        }
      ]
    },
    {
      "cell_type": "markdown",
      "source": [
        "### Support Vector Regression FS2"
      ],
      "metadata": {
        "id": "xODakSQMo2D0"
      }
    },
    {
      "cell_type": "code",
      "source": [
        "# Preprocessing ust for SVR\n",
        "df_fs2 = df.copy()\n",
        "\n",
        "# features and label\n",
        "Xfs2 = df_fs2.drop([\"Lv50 Int\"], axis=1)\n",
        "yfs2 = df_fs2[\"Lv50 Int\"]\n",
        "\n",
        "# feature selection 1 - most importance columns\n",
        "Xfs2 = Xfs2[['Attribute_Electric','Attribute_Fire', 'Attribute_Light', 'Attribute_Neutral','Attribute_Plant', 'Attribute_Water', 'Attribute_Wind']]\n",
        "\n",
        "# convert to numpy array\n",
        "Xfs2 = Xfs2.values\n",
        "yfs2 = yfs2.values\n",
        "\n",
        "# Standart Scaler\n",
        "sc_X_FS = StandardScaler()          # Standard Scaler must use for SVR \n",
        "Xfs2 = sc_X_FS.fit_transform(Xfs2)\n",
        "\n",
        "yfs2 = yfs2.reshape(-1,1)\n",
        "sc_y_FS = StandardScaler()\n",
        "yfs2 = sc_y_FS.fit_transform(yfs2)\n",
        "\n",
        "# Train- Test Split\n",
        "X_train_sfs2, X_test_sfs2, y_train_s, y_test_s = train_test_split(Xfs2, yfs2, test_size=0.33, random_state =42)"
      ],
      "metadata": {
        "id": "Hh5ycYi2o6h-"
      },
      "execution_count": 46,
      "outputs": []
    },
    {
      "cell_type": "code",
      "source": [
        "svr_fs2 = SVR()  # svr without feature selection\n",
        "\n",
        "parameters_svr_fs2 = {\n",
        "    'kernel' :  ['linear', 'poly', 'rbf', 'sigmoid'],\n",
        "    'C'      :  [1, 1.5, 5, 10],\n",
        "    'gamma'  :  ['scale', 'auto'],\n",
        "    'epsilon': [0.1, 0.2, 0.5, 0.7]\n",
        "}\n",
        "\n",
        "grid_svr_fs2 = GridSearchCV(svr_fs2, parameters_svr_fs2, cv=5) \n",
        "\n",
        "grid_svr_fs2.fit(X_train_sfs2, y_train_s)"
      ],
      "metadata": {
        "id": "UfXvTXlJpcnv"
      },
      "execution_count": null,
      "outputs": []
    },
    {
      "cell_type": "code",
      "source": [
        "grid_svr_fs2.best_params_"
      ],
      "metadata": {
        "colab": {
          "base_uri": "https://localhost:8080/"
        },
        "id": "bYEpodCWpigV",
        "outputId": "6cc648c5-7ad2-4870-957c-fca3c18b09b6"
      },
      "execution_count": 48,
      "outputs": [
        {
          "output_type": "execute_result",
          "data": {
            "text/plain": [
              "{'C': 1, 'epsilon': 0.7, 'gamma': 'auto', 'kernel': 'sigmoid'}"
            ]
          },
          "metadata": {},
          "execution_count": 48
        }
      ]
    },
    {
      "cell_type": "code",
      "source": [
        "svr_fs2 = SVR(C = 1, epsilon=0.7, gamma = \"auto\", kernel=\"sigmoid\")\n",
        "svr_fs2.fit(X_train_sfs2, y_train_s)\n",
        "svr_fs2_pred = svr_fs2.predict(X_test_sfs2)"
      ],
      "metadata": {
        "colab": {
          "base_uri": "https://localhost:8080/"
        },
        "id": "iHAEMbn5pmno",
        "outputId": "57b1c81b-308b-4018-9013-5add593d579a"
      },
      "execution_count": 49,
      "outputs": [
        {
          "output_type": "stream",
          "name": "stderr",
          "text": [
            "A column-vector y was passed when a 1d array was expected. Please change the shape of y to (n_samples, ), for example using ravel().\n"
          ]
        }
      ]
    },
    {
      "cell_type": "code",
      "source": [
        "print(\"-->Support Vector Regressor Feature Selection Method 2 \\n\")\n",
        "print('MAE -  Mean Absolute Error :', metrics.mean_absolute_error(y_test_s, svr_fs2_pred ))\n",
        "print('R2 -   R2 Score            : ', metrics.r2_score(y_test_s, svr_fs2_pred ))\n",
        "print('MSE -  Mean Squared Error  :', metrics.mean_squared_error(y_test_s, svr_fs2_pred ))\n",
        "print('RSME - Root Mean Squared Error :', np.sqrt(metrics.mean_squared_error(y_test_s, svr_fs2_pred )))\n",
        "mape = np.mean(np.abs((y_test_s - svr_fs2_pred ) / np.abs(y_test_s)))\n",
        "print('MAPE - Mean Absolute Percentage Error :', round(mape * 100, 2))"
      ],
      "metadata": {
        "colab": {
          "base_uri": "https://localhost:8080/"
        },
        "id": "rU_NxGhDpzxE",
        "outputId": "6ae56d22-48f7-409d-cc97-b2be6e939bd6"
      },
      "execution_count": 50,
      "outputs": [
        {
          "output_type": "stream",
          "name": "stdout",
          "text": [
            "-->Support Vector Regressor Feature Selection Method 2 \n",
            "\n",
            "MAE -  Mean Absolute Error : 0.727142745151816\n",
            "R2 -   R2 Score            :  0.16106833812841126\n",
            "MSE -  Mean Squared Error  : 0.8350779616586004\n",
            "RSME - Root Mean Squared Error : 0.9138260018507902\n",
            "MAPE - Mean Absolute Percentage Error : 185.45\n"
          ]
        }
      ]
    },
    {
      "cell_type": "markdown",
      "source": [
        "# Result"
      ],
      "metadata": {
        "id": "_5ON1tVCqUiU"
      }
    },
    {
      "cell_type": "markdown",
      "source": [
        "**Without Feature Selection**\n",
        "\n",
        "**Linear Regression:**\n",
        "+ MAE -  Mean Absolute Error :  6.703126932849215\n",
        "+ R2 -   R2 Score            :  0.9579246841706801\n",
        "\n",
        "**Random Forest Regression:**\n",
        "+ MAE -  Mean Absolute Error :  15.668433734939757\n",
        "+ R2 -   R2 Score            :  0.7931045093431051\n",
        "\n",
        "\n",
        "**Support Vector Regression:**\n",
        "\n",
        "+ MAE -  Mean Absolute Error : 0.16701461267892193\n",
        "+ R2 -   R2 Score            :  0.9561455029540569\n",
        "\n",
        "\n",
        "\n",
        "\n",
        "**Feature Selection Method 1**\n",
        "\n",
        "\n",
        "-->Random Forest Regressor Feature Selection Method 1 \n",
        "\n",
        "+ MAE -  Mean Absolute Error : 12.420771389271401\n",
        "+ R2 -   R2 Score            :  0.8505740843586893\n",
        "\n",
        "\n",
        "-->Linear Regressor Feature Selection Method 1 \n",
        "\n",
        "+ MAE -  Mean Absolute Error : 6.703126932849215\n",
        "+ R2 -   R2 Score            :  0.9579246841706801\n",
        "\n",
        "\n",
        "\n",
        "-->Support Vector Regressor Feature Selection Method 1 \n",
        "\n",
        "MAE -  Mean Absolute Error : 0.19401923265477458\n",
        "R2 -   R2 Score            :  0.9403284441255666\n",
        "\n",
        "\n",
        "\n",
        "\n",
        "**Feature Selection Method 2**\n",
        "\n",
        "-->Linear Regression Feature Selection Method 2 \n",
        "\n",
        "+ MAE -  Mean Absolute Error : 29.455752776697235\n",
        "+ R2 -   R2 Score            :  0.18865861282836582\n",
        "\n",
        "\n",
        "-->Random Forest Feature Selection Method 2 \n",
        "\n",
        "+ MAE -  Mean Absolute Error : 29.954422607413985\n",
        "+ R2 -   R2 Score            :  0.17147684771510963\n",
        "\n",
        "-->Support Vector Regressor Feature Selection Method 2 \n",
        "\n",
        "+ MAE -  Mean Absolute Error : 0.727142745151816\n",
        "+ R2 -   R2 Score            :  0.16106833812841126\n",
        "\n",
        "\n",
        "\n",
        "\n"
      ],
      "metadata": {
        "id": "xjoeecS7qZRI"
      }
    },
    {
      "cell_type": "code",
      "source": [
        ""
      ],
      "metadata": {
        "id": "op9DXcQ8YLj3"
      },
      "execution_count": null,
      "outputs": []
    }
  ]
}